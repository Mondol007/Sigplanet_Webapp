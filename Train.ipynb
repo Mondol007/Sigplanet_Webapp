{
 "cells": [
  {
   "cell_type": "code",
   "execution_count": 1,
   "id": "4652c777",
   "metadata": {},
   "outputs": [],
   "source": [
    "import cv2\n",
    "import numpy as np\n",
    "import os\n",
    "from matplotlib import pyplot as plt\n",
    "import time\n",
    "import mediapipe as mp"
   ]
  },
  {
   "cell_type": "code",
   "execution_count": 2,
   "id": "f397edaf",
   "metadata": {},
   "outputs": [
    {
     "name": "stdout",
     "output_type": "stream",
     "text": [
      "WARNING:tensorflow:Please fix your imports. Module tensorflow.python.training.tracking.base has been moved to tensorflow.python.trackable.base. The old module will be deleted in version 2.11.\n",
      "WARNING:tensorflow:Please fix your imports. Module tensorflow.python.training.checkpoint_management has been moved to tensorflow.python.checkpoint.checkpoint_management. The old module will be deleted in version 2.9.\n",
      "WARNING:tensorflow:Please fix your imports. Module tensorflow.python.training.tracking.resource has been moved to tensorflow.python.trackable.resource. The old module will be deleted in version 2.11.\n",
      "WARNING:tensorflow:Please fix your imports. Module tensorflow.python.training.tracking.util has been moved to tensorflow.python.checkpoint.checkpoint. The old module will be deleted in version 2.11.\n",
      "WARNING:tensorflow:Please fix your imports. Module tensorflow.python.training.tracking.base_delegate has been moved to tensorflow.python.trackable.base_delegate. The old module will be deleted in version 2.11.\n",
      "WARNING:tensorflow:Please fix your imports. Module tensorflow.python.training.tracking.graph_view has been moved to tensorflow.python.checkpoint.graph_view. The old module will be deleted in version 2.11.\n",
      "WARNING:tensorflow:Please fix your imports. Module tensorflow.python.training.tracking.python_state has been moved to tensorflow.python.trackable.python_state. The old module will be deleted in version 2.11.\n",
      "WARNING:tensorflow:Please fix your imports. Module tensorflow.python.training.saving.functional_saver has been moved to tensorflow.python.checkpoint.functional_saver. The old module will be deleted in version 2.11.\n",
      "WARNING:tensorflow:Please fix your imports. Module tensorflow.python.training.saving.checkpoint_options has been moved to tensorflow.python.checkpoint.checkpoint_options. The old module will be deleted in version 2.11.\n"
     ]
    }
   ],
   "source": [
    "import tensorflow as tf"
   ]
  },
  {
   "cell_type": "code",
   "execution_count": 3,
   "id": "f42da799",
   "metadata": {},
   "outputs": [
    {
     "name": "stdout",
     "output_type": "stream",
     "text": [
      "Num GPUs Available:  1\n"
     ]
    }
   ],
   "source": [
    "print(\"Num GPUs Available: \", len(tf.config.list_physical_devices('GPU')))"
   ]
  },
  {
   "cell_type": "code",
   "execution_count": 4,
   "id": "ba75ecae",
   "metadata": {},
   "outputs": [],
   "source": [
    "mp_holistic = mp.solutions.holistic\n",
    "mp_drawing = mp.solutions.drawing_utils"
   ]
  },
  {
   "cell_type": "code",
   "execution_count": 5,
   "id": "7e1ceca3",
   "metadata": {},
   "outputs": [],
   "source": [
    "def mediapipe_detection(image, model):\n",
    "  image = cv2.cvtColor(image, cv2.COLOR_BGR2RGB)  \n",
    "  image.flags.writeable = False  \n",
    "  results = model.process(image) \n",
    "  image.flags.writeable = True  \n",
    "  image = cv2.cvtColor(image, cv2.COLOR_RGB2BGR)  \n",
    "  return image, results"
   ]
  },
  {
   "cell_type": "code",
   "execution_count": 6,
   "id": "1067338e",
   "metadata": {},
   "outputs": [],
   "source": [
    "def draw_landmarks(image, results):\n",
    "    mp_drawing.draw_landmarks(image, results.right_hand_landmarks, mp_holistic.HAND_CONNECTIONS)\n",
    "def draw_styled_landmarks(image, results):\n",
    "    mp_drawing.draw_landmarks(image, results.right_hand_landmarks, mp_holistic.HAND_CONNECTIONS, \n",
    "                             mp_drawing.DrawingSpec(color=(245,117,66), thickness=2, circle_radius=4), \n",
    "                             mp_drawing.DrawingSpec(color=(245,66,230), thickness=2, circle_radius=2))"
   ]
  },
  {
   "cell_type": "code",
   "execution_count": 8,
   "id": "73c5a52c",
   "metadata": {},
   "outputs": [
    {
     "name": "stdout",
     "output_type": "stream",
     "text": [
      "<class 'mediapipe.python.solution_base.SolutionOutputs'>\n",
      "<class 'mediapipe.python.solution_base.SolutionOutputs'>\n",
      "<class 'mediapipe.python.solution_base.SolutionOutputs'>\n",
      "<class 'mediapipe.python.solution_base.SolutionOutputs'>\n",
      "<class 'mediapipe.python.solution_base.SolutionOutputs'>\n",
      "<class 'mediapipe.python.solution_base.SolutionOutputs'>\n",
      "<class 'mediapipe.python.solution_base.SolutionOutputs'>\n",
      "<class 'mediapipe.python.solution_base.SolutionOutputs'>\n",
      "<class 'mediapipe.python.solution_base.SolutionOutputs'>\n",
      "<class 'mediapipe.python.solution_base.SolutionOutputs'>\n",
      "<class 'mediapipe.python.solution_base.SolutionOutputs'>\n",
      "<class 'mediapipe.python.solution_base.SolutionOutputs'>\n",
      "<class 'mediapipe.python.solution_base.SolutionOutputs'>\n",
      "<class 'mediapipe.python.solution_base.SolutionOutputs'>\n",
      "<class 'mediapipe.python.solution_base.SolutionOutputs'>\n",
      "<class 'mediapipe.python.solution_base.SolutionOutputs'>\n",
      "<class 'mediapipe.python.solution_base.SolutionOutputs'>\n",
      "<class 'mediapipe.python.solution_base.SolutionOutputs'>\n",
      "<class 'mediapipe.python.solution_base.SolutionOutputs'>\n",
      "<class 'mediapipe.python.solution_base.SolutionOutputs'>\n",
      "<class 'mediapipe.python.solution_base.SolutionOutputs'>\n",
      "<class 'mediapipe.python.solution_base.SolutionOutputs'>\n",
      "<class 'mediapipe.python.solution_base.SolutionOutputs'>\n",
      "<class 'mediapipe.python.solution_base.SolutionOutputs'>\n",
      "<class 'mediapipe.python.solution_base.SolutionOutputs'>\n",
      "<class 'mediapipe.python.solution_base.SolutionOutputs'>\n",
      "<class 'mediapipe.python.solution_base.SolutionOutputs'>\n",
      "<class 'mediapipe.python.solution_base.SolutionOutputs'>\n",
      "<class 'mediapipe.python.solution_base.SolutionOutputs'>\n",
      "<class 'mediapipe.python.solution_base.SolutionOutputs'>\n",
      "<class 'mediapipe.python.solution_base.SolutionOutputs'>\n",
      "<class 'mediapipe.python.solution_base.SolutionOutputs'>\n",
      "<class 'mediapipe.python.solution_base.SolutionOutputs'>\n",
      "<class 'mediapipe.python.solution_base.SolutionOutputs'>\n",
      "<class 'mediapipe.python.solution_base.SolutionOutputs'>\n",
      "<class 'mediapipe.python.solution_base.SolutionOutputs'>\n",
      "<class 'mediapipe.python.solution_base.SolutionOutputs'>\n",
      "<class 'mediapipe.python.solution_base.SolutionOutputs'>\n",
      "<class 'mediapipe.python.solution_base.SolutionOutputs'>\n",
      "<class 'mediapipe.python.solution_base.SolutionOutputs'>\n",
      "<class 'mediapipe.python.solution_base.SolutionOutputs'>\n",
      "<class 'mediapipe.python.solution_base.SolutionOutputs'>\n",
      "<class 'mediapipe.python.solution_base.SolutionOutputs'>\n",
      "<class 'mediapipe.python.solution_base.SolutionOutputs'>\n",
      "<class 'mediapipe.python.solution_base.SolutionOutputs'>\n",
      "<class 'mediapipe.python.solution_base.SolutionOutputs'>\n",
      "<class 'mediapipe.python.solution_base.SolutionOutputs'>\n",
      "<class 'mediapipe.python.solution_base.SolutionOutputs'>\n",
      "<class 'mediapipe.python.solution_base.SolutionOutputs'>\n",
      "<class 'mediapipe.python.solution_base.SolutionOutputs'>\n",
      "<class 'mediapipe.python.solution_base.SolutionOutputs'>\n",
      "<class 'mediapipe.python.solution_base.SolutionOutputs'>\n",
      "<class 'mediapipe.python.solution_base.SolutionOutputs'>\n",
      "<class 'mediapipe.python.solution_base.SolutionOutputs'>\n",
      "<class 'mediapipe.python.solution_base.SolutionOutputs'>\n",
      "<class 'mediapipe.python.solution_base.SolutionOutputs'>\n",
      "<class 'mediapipe.python.solution_base.SolutionOutputs'>\n",
      "<class 'mediapipe.python.solution_base.SolutionOutputs'>\n",
      "<class 'mediapipe.python.solution_base.SolutionOutputs'>\n",
      "<class 'mediapipe.python.solution_base.SolutionOutputs'>\n",
      "<class 'mediapipe.python.solution_base.SolutionOutputs'>\n",
      "<class 'mediapipe.python.solution_base.SolutionOutputs'>\n",
      "<class 'mediapipe.python.solution_base.SolutionOutputs'>\n",
      "<class 'mediapipe.python.solution_base.SolutionOutputs'>\n",
      "<class 'mediapipe.python.solution_base.SolutionOutputs'>\n",
      "<class 'mediapipe.python.solution_base.SolutionOutputs'>\n",
      "<class 'mediapipe.python.solution_base.SolutionOutputs'>\n",
      "<class 'mediapipe.python.solution_base.SolutionOutputs'>\n",
      "<class 'mediapipe.python.solution_base.SolutionOutputs'>\n",
      "<class 'mediapipe.python.solution_base.SolutionOutputs'>\n",
      "<class 'mediapipe.python.solution_base.SolutionOutputs'>\n"
     ]
    }
   ],
   "source": [
    "RTSP_URL = 'http://192.168.0.101:8080//video'\n",
    "\n",
    "os.environ['OPENCV_FFMPEG_CAPTURE_OPTIONS'] = 'rtsp_transport;udp'\n",
    "\n",
    "cap = cv2.VideoCapture(RTSP_URL, cv2.CAP_FFMPEG)\n",
    "with mp_holistic.Holistic(min_detection_confidence=0.5, min_tracking_confidence=0.5) as holistic:\n",
    "    while True:\n",
    "      ret, frame = cap.read()\n",
    "\n",
    "      image, results = mediapipe_detection(frame, holistic)\n",
    "      print(results)\n",
    "\n",
    "      draw_styled_landmarks(image, results)\n",
    "      \n",
    "      cv2.imshow('SigPlanet_Screen', image)\n",
    "      if cv2.waitKey(1) == 27:\n",
    "        break\n",
    "            \n",
    "cap.release()\n",
    "cv2.destroyAllWindows()"
   ]
  },
  {
   "cell_type": "code",
   "execution_count": 8,
   "id": "7d7ae41b",
   "metadata": {},
   "outputs": [
    {
     "data": {
      "text/plain": [
       "21"
      ]
     },
     "execution_count": 8,
     "metadata": {},
     "output_type": "execute_result"
    }
   ],
   "source": [
    "len(results.right_hand_landmarks.landmark)"
   ]
  },
  {
   "cell_type": "code",
   "execution_count": 61,
   "id": "882da212",
   "metadata": {},
   "outputs": [
    {
     "data": {
      "text/plain": [
       "x: 0.36771586537361145\n",
       "y: 0.7142177820205688\n",
       "z: 1.5020175681002002e-07"
      ]
     },
     "execution_count": 61,
     "metadata": {},
     "output_type": "execute_result"
    }
   ],
   "source": [
    "results.right_hand_landmarks.landmark[0]"
   ]
  },
  {
   "cell_type": "code",
   "execution_count": 7,
   "id": "9e7e1829",
   "metadata": {},
   "outputs": [],
   "source": [
    "def extract_keypoints(results):\n",
    "    rh = np.array([[res.x, res.y, res.z] for res in results.right_hand_landmarks.landmark]).flatten() if results.right_hand_landmarks else np.zeros(21*3)\n",
    "    return np.concatenate([rh])"
   ]
  },
  {
   "cell_type": "code",
   "execution_count": 10,
   "id": "a293c617",
   "metadata": {},
   "outputs": [],
   "source": [
    "result_test = extract_keypoints(results)"
   ]
  },
  {
   "cell_type": "code",
   "execution_count": 42,
   "id": "361dd80b",
   "metadata": {},
   "outputs": [
    {
     "data": {
      "text/plain": [
       "array([ 2.01083273e-01,  5.34648240e-01, -2.58874849e-07,  2.66546160e-01,\n",
       "        4.60803539e-01, -2.50647720e-02,  3.06302488e-01,  3.58199358e-01,\n",
       "       -3.31103988e-02,  3.14814836e-01,  2.52464741e-01, -4.25204560e-02,\n",
       "        2.96398163e-01,  1.70124143e-01, -4.89906147e-02,  2.59948015e-01,\n",
       "        2.67963827e-01,  1.09790848e-03,  2.65967220e-01,  1.99201792e-01,\n",
       "       -4.41472530e-02,  2.63024330e-01,  2.78247535e-01, -7.09863603e-02,\n",
       "        2.59028435e-01,  3.55165571e-01, -7.84693956e-02,  2.17218488e-01,\n",
       "        2.69941509e-01, -5.79722691e-05,  2.22850949e-01,  1.84775993e-01,\n",
       "       -5.30220941e-02,  2.23823860e-01,  2.88051307e-01, -7.19838142e-02,\n",
       "        2.24536836e-01,  3.77108693e-01, -6.95914775e-02,  1.75148219e-01,\n",
       "        2.79675245e-01, -8.70398805e-03,  1.79635972e-01,  2.13413909e-01,\n",
       "       -6.14138097e-02,  1.89204440e-01,  3.16553473e-01, -6.11598641e-02,\n",
       "        1.93432897e-01,  3.95619273e-01, -4.31752689e-02,  1.29053205e-01,\n",
       "        2.94471204e-01, -1.89468395e-02,  1.37616649e-01,  2.16837049e-01,\n",
       "       -5.21564633e-02,  1.50387287e-01,  2.87388891e-01, -4.61930595e-02,\n",
       "        1.55158743e-01,  3.50764036e-01, -3.01523525e-02])"
      ]
     },
     "execution_count": 42,
     "metadata": {},
     "output_type": "execute_result"
    }
   ],
   "source": [
    "result_test"
   ]
  },
  {
   "cell_type": "code",
   "execution_count": 8,
   "id": "bca6306a",
   "metadata": {},
   "outputs": [],
   "source": [
    "DATA_PATH = os.path.join('SigPlanet_Data_2') \n",
    "\n",
    "Alphabet = np.array(['A', 'B', 'C', 'D', 'E', 'F', 'G', 'H', 'I', 'J',\n",
    "                    'K', 'L', 'M', 'N', 'O', 'P', 'Q', 'R', 'S', 'T',\n",
    "                    'U', 'V', 'W', 'X', 'Y', 'Z', 'Space', 'Dot', 'Back'])\n",
    "\n",
    "no_sequences = 50\n",
    "sequence_length = 30"
   ]
  },
  {
   "cell_type": "code",
   "execution_count": 48,
   "id": "7162cd9f",
   "metadata": {},
   "outputs": [
    {
     "data": {
      "text/plain": [
       "'\\nfor sequence in range(no_sequences):\\n        try: \\n            os.makedirs(os.path.join(DATA_PATH, Alphabet[29], str(sequence)))\\n        except:\\n            pass\\n'"
      ]
     },
     "execution_count": 48,
     "metadata": {},
     "output_type": "execute_result"
    }
   ],
   "source": [
    "#for alphabet in Alphabet: \n",
    "'''\n",
    "for sequence in range(no_sequences):\n",
    "        try: \n",
    "            os.makedirs(os.path.join(DATA_PATH, Alphabet[29], str(sequence)))\n",
    "        except:\n",
    "            pass\n",
    "'''"
   ]
  },
  {
   "cell_type": "code",
   "execution_count": 61,
   "id": "66acd404",
   "metadata": {},
   "outputs": [],
   "source": [
    "RTSP_URL = 'http://192.168.1.101:8080/video'\n",
    "\n",
    "os.environ['OPENCV_FFMPEG_CAPTURE_OPTIONS'] = 'rtsp_transport;udp'\n",
    "\n",
    "cap = cv2.VideoCapture(RTSP_URL, cv2.CAP_FFMPEG)\n",
    "with mp_holistic.Holistic(min_detection_confidence=0.5, min_tracking_confidence=0.5) as holistic:\n",
    "\n",
    "        for sequence in range(no_sequences):\n",
    "            for frame_num in range(sequence_length):\n",
    "\n",
    "                ret, frame = cap.read()\n",
    "\n",
    "                image, results = mediapipe_detection(frame, holistic)\n",
    "#                 print(results)\n",
    "\n",
    "                draw_styled_landmarks(image, results)\n",
    "                \n",
    "                    \n",
    "                cv2.putText(image, 'Collecting frames for {} Video Number {}'.format(Alphabet[29], sequence), (15,12), \n",
    "                               cv2.FONT_HERSHEY_SIMPLEX, 0.5, (0, 0, 255), 1, cv2.LINE_AA)\n",
    "                if cv2.waitKey(1) == 27:\n",
    "                    break\n",
    "                cv2.imshow('SigPlanet_Screen', image)\n",
    "                \n",
    "                keypoints = extract_keypoints(results)\n",
    "                npy_path = os.path.join(DATA_PATH, Alphabet[29], str(sequence), str(frame_num))\n",
    "                np.save(npy_path, keypoints)\n",
    "                    \n",
    "        cap.release()\n",
    "        cv2.destroyAllWindows()"
   ]
  },
  {
   "cell_type": "code",
   "execution_count": 34,
   "id": "ef58f15d",
   "metadata": {},
   "outputs": [],
   "source": [
    "cap.release()\n",
    "cv2.destroyAllWindows()"
   ]
  },
  {
   "cell_type": "code",
   "execution_count": 9,
   "id": "2a7df6e8",
   "metadata": {},
   "outputs": [],
   "source": [
    "from sklearn.model_selection import train_test_split\n",
    "from tensorflow.keras.utils import to_categorical"
   ]
  },
  {
   "cell_type": "code",
   "execution_count": 10,
   "id": "6f93499b",
   "metadata": {},
   "outputs": [],
   "source": [
    "label_map = {label:num for num, label in enumerate(Alphabet)}"
   ]
  },
  {
   "cell_type": "code",
   "execution_count": 11,
   "id": "833bad2e",
   "metadata": {},
   "outputs": [
    {
     "data": {
      "text/plain": [
       "{'A': 0,\n",
       " 'B': 1,\n",
       " 'C': 2,\n",
       " 'D': 3,\n",
       " 'E': 4,\n",
       " 'F': 5,\n",
       " 'G': 6,\n",
       " 'H': 7,\n",
       " 'I': 8,\n",
       " 'J': 9,\n",
       " 'K': 10,\n",
       " 'L': 11,\n",
       " 'M': 12,\n",
       " 'N': 13,\n",
       " 'O': 14,\n",
       " 'P': 15,\n",
       " 'Q': 16,\n",
       " 'R': 17,\n",
       " 'S': 18,\n",
       " 'T': 19,\n",
       " 'U': 20,\n",
       " 'V': 21,\n",
       " 'W': 22,\n",
       " 'X': 23,\n",
       " 'Y': 24,\n",
       " 'Z': 25,\n",
       " 'Space': 26,\n",
       " 'Dot': 27,\n",
       " 'Back': 28}"
      ]
     },
     "execution_count": 11,
     "metadata": {},
     "output_type": "execute_result"
    }
   ],
   "source": [
    "label_map"
   ]
  },
  {
   "cell_type": "code",
   "execution_count": 12,
   "id": "f6aa5cfa",
   "metadata": {},
   "outputs": [],
   "source": [
    "sequences, labels = [], []\n",
    "for action in Alphabet:\n",
    "    for sequence in range(no_sequences):\n",
    "        window = []\n",
    "        for frame_num in range(sequence_length):\n",
    "            res = np.load(os.path.join(DATA_PATH, action, str(sequence), \"{}.npy\".format(frame_num)))\n",
    "            window.append(res)\n",
    "        sequences.append(window)\n",
    "        labels.append(label_map[action])"
   ]
  },
  {
   "cell_type": "code",
   "execution_count": 13,
   "id": "aac86da2",
   "metadata": {},
   "outputs": [
    {
     "data": {
      "text/plain": [
       "(1450, 30, 63)"
      ]
     },
     "execution_count": 13,
     "metadata": {},
     "output_type": "execute_result"
    }
   ],
   "source": [
    "np.array(sequences).shape"
   ]
  },
  {
   "cell_type": "code",
   "execution_count": 14,
   "id": "dd01a962",
   "metadata": {},
   "outputs": [
    {
     "data": {
      "text/plain": [
       "(1450,)"
      ]
     },
     "execution_count": 14,
     "metadata": {},
     "output_type": "execute_result"
    }
   ],
   "source": [
    "np.array(labels).shape"
   ]
  },
  {
   "cell_type": "code",
   "execution_count": 15,
   "id": "6b1cf624",
   "metadata": {},
   "outputs": [],
   "source": [
    "X = np.array(sequences)"
   ]
  },
  {
   "cell_type": "code",
   "execution_count": 16,
   "id": "5e9198de",
   "metadata": {},
   "outputs": [
    {
     "data": {
      "text/plain": [
       "(1450, 30, 63)"
      ]
     },
     "execution_count": 16,
     "metadata": {},
     "output_type": "execute_result"
    }
   ],
   "source": [
    "X.shape"
   ]
  },
  {
   "cell_type": "code",
   "execution_count": 17,
   "id": "4fb20335",
   "metadata": {},
   "outputs": [],
   "source": [
    "y = to_categorical(labels).astype(int)"
   ]
  },
  {
   "cell_type": "code",
   "execution_count": 18,
   "id": "120bbeac",
   "metadata": {},
   "outputs": [],
   "source": [
    "X_train, X_test, y_train, y_test = train_test_split(X, y, test_size=0.05)"
   ]
  },
  {
   "cell_type": "code",
   "execution_count": 19,
   "id": "29b8c9a2",
   "metadata": {},
   "outputs": [
    {
     "data": {
      "text/plain": [
       "(73, 29)"
      ]
     },
     "execution_count": 19,
     "metadata": {},
     "output_type": "execute_result"
    }
   ],
   "source": [
    "y_test.shape"
   ]
  },
  {
   "cell_type": "code",
   "execution_count": 20,
   "id": "96b0f0ee",
   "metadata": {},
   "outputs": [],
   "source": [
    "from tensorflow.keras.models import Sequential\n",
    "from tensorflow.keras.layers import LSTM, Dense\n",
    "from tensorflow.keras.callbacks import TensorBoard"
   ]
  },
  {
   "cell_type": "code",
   "execution_count": 21,
   "id": "44bf4e4d",
   "metadata": {},
   "outputs": [
    {
     "name": "stdout",
     "output_type": "stream",
     "text": [
      "WARNING:tensorflow:Layer lstm will not use cuDNN kernels since it doesn't meet the criteria. It will use a generic GPU kernel as fallback when running on GPU.\n",
      "WARNING:tensorflow:Layer lstm_1 will not use cuDNN kernels since it doesn't meet the criteria. It will use a generic GPU kernel as fallback when running on GPU.\n",
      "WARNING:tensorflow:Layer lstm_2 will not use cuDNN kernels since it doesn't meet the criteria. It will use a generic GPU kernel as fallback when running on GPU.\n"
     ]
    }
   ],
   "source": [
    "model = Sequential()\n",
    "model.add(LSTM(128, return_sequences=True, activation='relu', input_shape=(30,63)))\n",
    "model.add(LSTM(128, return_sequences=True, activation='relu'))\n",
    "model.add(LSTM(64, return_sequences=False, activation='relu'))\n",
    "model.add(Dense(64, activation='relu'))\n",
    "model.add(Dense(32, activation='relu'))\n",
    "model.add(Dense(Alphabet.shape[0], activation='softmax'))"
   ]
  },
  {
   "cell_type": "code",
   "execution_count": 22,
   "id": "39f06f6e",
   "metadata": {},
   "outputs": [],
   "source": [
    "res = [0.7, 0.2, 0.1]"
   ]
  },
  {
   "cell_type": "code",
   "execution_count": 23,
   "id": "62fcd86f",
   "metadata": {},
   "outputs": [
    {
     "data": {
      "text/plain": [
       "'A'"
      ]
     },
     "execution_count": 23,
     "metadata": {},
     "output_type": "execute_result"
    }
   ],
   "source": [
    "Alphabet[np.argmax(res)]"
   ]
  },
  {
   "cell_type": "code",
   "execution_count": 24,
   "id": "72391504",
   "metadata": {},
   "outputs": [],
   "source": [
    "model.compile(optimizer='Adam', loss='categorical_crossentropy', metrics=['categorical_accuracy'])"
   ]
  },
  {
   "cell_type": "code",
   "execution_count": 26,
   "id": "d4141af6",
   "metadata": {},
   "outputs": [
    {
     "name": "stdout",
     "output_type": "stream",
     "text": [
      "Epoch 1/400\n",
      "44/44 [==============================] - 39s 441ms/step - loss: 3.3214 - categorical_accuracy: 0.0407\n",
      "Epoch 2/400\n",
      "44/44 [==============================] - 21s 480ms/step - loss: 3.2297 - categorical_accuracy: 0.0697\n",
      "Epoch 3/400\n",
      "44/44 [==============================] - 21s 480ms/step - loss: 2.7517 - categorical_accuracy: 0.0973\n",
      "Epoch 4/400\n",
      "44/44 [==============================] - 19s 435ms/step - loss: 2.4224 - categorical_accuracy: 0.1983\n",
      "Epoch 5/400\n",
      "44/44 [==============================] - 21s 482ms/step - loss: 2.2263 - categorical_accuracy: 0.2542\n",
      "Epoch 6/400\n",
      "44/44 [==============================] - 23s 531ms/step - loss: 1.8369 - categorical_accuracy: 0.2847\n",
      "Epoch 7/400\n",
      "44/44 [==============================] - 23s 530ms/step - loss: 1.5397 - categorical_accuracy: 0.4256\n",
      "Epoch 8/400\n",
      "44/44 [==============================] - 23s 535ms/step - loss: 2.0109 - categorical_accuracy: 0.3384\n",
      "Epoch 9/400\n",
      "44/44 [==============================] - 23s 533ms/step - loss: 2.2474 - categorical_accuracy: 0.2404\n",
      "Epoch 10/400\n",
      "44/44 [==============================] - 22s 496ms/step - loss: 1.4815 - categorical_accuracy: 0.4314\n",
      "Epoch 11/400\n",
      "44/44 [==============================] - 21s 474ms/step - loss: 1.1924 - categorical_accuracy: 0.5113\n",
      "Epoch 12/400\n",
      "44/44 [==============================] - 21s 473ms/step - loss: 1.1547 - categorical_accuracy: 0.5919\n",
      "Epoch 13/400\n",
      "44/44 [==============================] - 21s 478ms/step - loss: 1.0062 - categorical_accuracy: 0.6362\n",
      "Epoch 14/400\n",
      "44/44 [==============================] - 21s 471ms/step - loss: 0.7304 - categorical_accuracy: 0.7233\n",
      "Epoch 15/400\n",
      "44/44 [==============================] - 18s 418ms/step - loss: 0.6237 - categorical_accuracy: 0.8148\n",
      "Epoch 16/400\n",
      "44/44 [==============================] - 19s 423ms/step - loss: 1.0140 - categorical_accuracy: 0.6478\n",
      "Epoch 17/400\n",
      "44/44 [==============================] - 12s 279ms/step - loss: 0.5329 - categorical_accuracy: 0.8250\n",
      "Epoch 18/400\n",
      "44/44 [==============================] - 13s 298ms/step - loss: 1.2045 - categorical_accuracy: 0.6282\n",
      "Epoch 19/400\n",
      "44/44 [==============================] - 13s 285ms/step - loss: 0.3304 - categorical_accuracy: 0.9237\n",
      "Epoch 20/400\n",
      "44/44 [==============================] - 13s 291ms/step - loss: 1.1300 - categorical_accuracy: 0.7829\n",
      "Epoch 21/400\n",
      "44/44 [==============================] - 13s 305ms/step - loss: 0.6489 - categorical_accuracy: 0.7807\n",
      "Epoch 22/400\n",
      "44/44 [==============================] - 14s 308ms/step - loss: 0.2694 - categorical_accuracy: 0.9143\n",
      "Epoch 23/400\n",
      "44/44 [==============================] - 14s 308ms/step - loss: 0.5836 - categorical_accuracy: 0.8025\n",
      "Epoch 24/400\n",
      "44/44 [==============================] - 14s 308ms/step - loss: 0.1384 - categorical_accuracy: 0.9622\n",
      "Epoch 25/400\n",
      "44/44 [==============================] - 13s 303ms/step - loss: 0.1164 - categorical_accuracy: 0.9550\n",
      "Epoch 26/400\n",
      "44/44 [==============================] - 14s 312ms/step - loss: 0.1687 - categorical_accuracy: 0.9455\n",
      "Epoch 27/400\n",
      "44/44 [==============================] - 13s 300ms/step - loss: 0.8804 - categorical_accuracy: 0.7364\n",
      "Epoch 28/400\n",
      "44/44 [==============================] - 13s 291ms/step - loss: 0.2497 - categorical_accuracy: 0.9375\n",
      "Epoch 29/400\n",
      "44/44 [==============================] - 13s 298ms/step - loss: 0.0674 - categorical_accuracy: 0.9818\n",
      "Epoch 30/400\n",
      "44/44 [==============================] - 13s 295ms/step - loss: 0.0386 - categorical_accuracy: 0.9920\n",
      "Epoch 31/400\n",
      "44/44 [==============================] - 13s 292ms/step - loss: 0.0666 - categorical_accuracy: 0.9818\n",
      "Epoch 32/400\n",
      "44/44 [==============================] - 13s 293ms/step - loss: 0.1859 - categorical_accuracy: 0.9390\n",
      "Epoch 33/400\n",
      "44/44 [==============================] - 13s 290ms/step - loss: 0.0416 - categorical_accuracy: 0.9891\n",
      "Epoch 34/400\n",
      "44/44 [==============================] - 13s 296ms/step - loss: 0.0360 - categorical_accuracy: 0.9877\n",
      "Epoch 35/400\n",
      "44/44 [==============================] - 13s 298ms/step - loss: 0.0867 - categorical_accuracy: 0.9695\n",
      "Epoch 36/400\n",
      "44/44 [==============================] - 13s 307ms/step - loss: 0.1464 - categorical_accuracy: 0.9550\n",
      "Epoch 37/400\n",
      "44/44 [==============================] - 13s 289ms/step - loss: 0.1164 - categorical_accuracy: 0.9630\n",
      "Epoch 38/400\n",
      "44/44 [==============================] - 13s 303ms/step - loss: 0.0294 - categorical_accuracy: 0.9920\n",
      "Epoch 39/400\n",
      "44/44 [==============================] - 13s 294ms/step - loss: 0.0314 - categorical_accuracy: 0.9906\n",
      "Epoch 40/400\n",
      "44/44 [==============================] - 13s 288ms/step - loss: 0.1321 - categorical_accuracy: 0.9644\n",
      "Epoch 41/400\n",
      "44/44 [==============================] - 13s 298ms/step - loss: 0.4561 - categorical_accuracy: 0.8562\n",
      "Epoch 42/400\n",
      "44/44 [==============================] - 13s 302ms/step - loss: 0.1180 - categorical_accuracy: 0.9651\n",
      "Epoch 43/400\n",
      "44/44 [==============================] - 13s 292ms/step - loss: 0.8332 - categorical_accuracy: 0.7858\n",
      "Epoch 44/400\n",
      "44/44 [==============================] - 13s 290ms/step - loss: 0.1181 - categorical_accuracy: 0.9746\n",
      "Epoch 45/400\n",
      "44/44 [==============================] - 13s 291ms/step - loss: 0.0350 - categorical_accuracy: 0.9935\n",
      "Epoch 46/400\n",
      "44/44 [==============================] - 12s 279ms/step - loss: 0.0242 - categorical_accuracy: 0.9949\n",
      "Epoch 47/400\n",
      "44/44 [==============================] - 12s 281ms/step - loss: 0.0389 - categorical_accuracy: 0.9913\n",
      "Epoch 48/400\n",
      "44/44 [==============================] - 13s 288ms/step - loss: 1.8107 - categorical_accuracy: 0.5113\n",
      "Epoch 49/400\n",
      "44/44 [==============================] - 13s 287ms/step - loss: 1.4502 - categorical_accuracy: 0.5701\n",
      "Epoch 50/400\n",
      "44/44 [==============================] - 13s 293ms/step - loss: 1.1672 - categorical_accuracy: 0.6543\n",
      "Epoch 51/400\n",
      "44/44 [==============================] - 13s 298ms/step - loss: 0.6138 - categorical_accuracy: 0.8097\n",
      "Epoch 52/400\n",
      "44/44 [==============================] - 13s 304ms/step - loss: 0.5108 - categorical_accuracy: 0.8381\n",
      "Epoch 53/400\n",
      "44/44 [==============================] - 13s 294ms/step - loss: 0.2532 - categorical_accuracy: 0.9194\n",
      "Epoch 54/400\n",
      "44/44 [==============================] - 13s 296ms/step - loss: 0.6492 - categorical_accuracy: 0.7887\n",
      "Epoch 55/400\n",
      "44/44 [==============================] - 14s 313ms/step - loss: 0.2093 - categorical_accuracy: 0.9332\n",
      "Epoch 56/400\n",
      "44/44 [==============================] - 13s 297ms/step - loss: 0.0465 - categorical_accuracy: 0.9884\n",
      "Epoch 57/400\n",
      "44/44 [==============================] - 13s 299ms/step - loss: 0.0125 - categorical_accuracy: 0.9985\n",
      "Epoch 58/400\n",
      "44/44 [==============================] - 13s 298ms/step - loss: 0.0117 - categorical_accuracy: 0.9964\n",
      "Epoch 59/400\n",
      "44/44 [==============================] - 13s 306ms/step - loss: 0.0537 - categorical_accuracy: 0.9884\n",
      "Epoch 60/400\n",
      "44/44 [==============================] - 13s 302ms/step - loss: 0.0218 - categorical_accuracy: 0.9942\n",
      "Epoch 61/400\n",
      "44/44 [==============================] - 13s 293ms/step - loss: 0.1719 - categorical_accuracy: 0.9463\n",
      "Epoch 62/400\n",
      "44/44 [==============================] - 13s 302ms/step - loss: 0.4041 - categorical_accuracy: 0.8867\n",
      "Epoch 63/400\n",
      "44/44 [==============================] - 13s 303ms/step - loss: 0.8188 - categorical_accuracy: 0.7879\n",
      "Epoch 64/400\n",
      "44/44 [==============================] - 13s 300ms/step - loss: 0.1756 - categorical_accuracy: 0.9622\n",
      "Epoch 65/400\n",
      "44/44 [==============================] - 13s 294ms/step - loss: 0.0783 - categorical_accuracy: 0.9847\n",
      "Epoch 66/400\n",
      "44/44 [==============================] - 13s 304ms/step - loss: 0.3594 - categorical_accuracy: 0.8874\n",
      "Epoch 67/400\n",
      "44/44 [==============================] - 13s 299ms/step - loss: 0.0677 - categorical_accuracy: 0.9869\n",
      "Epoch 68/400\n",
      "44/44 [==============================] - 13s 300ms/step - loss: 0.0166 - categorical_accuracy: 0.9985\n",
      "Epoch 69/400\n",
      "44/44 [==============================] - 13s 299ms/step - loss: 0.0114 - categorical_accuracy: 0.9978\n",
      "Epoch 70/400\n",
      "44/44 [==============================] - 13s 305ms/step - loss: 0.0073 - categorical_accuracy: 0.9985\n",
      "Epoch 71/400\n",
      "44/44 [==============================] - 13s 299ms/step - loss: 0.0036 - categorical_accuracy: 1.0000\n",
      "Epoch 72/400\n"
     ]
    },
    {
     "name": "stdout",
     "output_type": "stream",
     "text": [
      "44/44 [==============================] - 14s 307ms/step - loss: 0.0026 - categorical_accuracy: 1.0000\n",
      "Epoch 73/400\n",
      "44/44 [==============================] - 13s 300ms/step - loss: 0.0197 - categorical_accuracy: 0.9949\n",
      "Epoch 74/400\n",
      "44/44 [==============================] - 14s 311ms/step - loss: 0.3571 - categorical_accuracy: 0.8962\n",
      "Epoch 75/400\n",
      "44/44 [==============================] - 13s 293ms/step - loss: 0.0582 - categorical_accuracy: 0.9920\n",
      "Epoch 76/400\n",
      "44/44 [==============================] - 13s 293ms/step - loss: 0.0520 - categorical_accuracy: 0.9869\n",
      "Epoch 77/400\n",
      "44/44 [==============================] - 13s 297ms/step - loss: 0.1854 - categorical_accuracy: 0.9550\n",
      "Epoch 78/400\n",
      "44/44 [==============================] - 13s 301ms/step - loss: 1.8865 - categorical_accuracy: 0.4728\n",
      "Epoch 79/400\n",
      "44/44 [==============================] - 13s 301ms/step - loss: 0.8231 - categorical_accuracy: 0.7618\n",
      "Epoch 80/400\n",
      "44/44 [==============================] - 13s 299ms/step - loss: 2.6552 - categorical_accuracy: 0.1874\n",
      "Epoch 81/400\n",
      "44/44 [==============================] - 13s 301ms/step - loss: 1.1612 - categorical_accuracy: 0.6028\n",
      "Epoch 82/400\n",
      "44/44 [==============================] - 14s 315ms/step - loss: 0.4671 - categorical_accuracy: 0.8475\n",
      "Epoch 83/400\n",
      "44/44 [==============================] - 14s 313ms/step - loss: 0.2626 - categorical_accuracy: 0.9085\n",
      "Epoch 84/400\n",
      "44/44 [==============================] - 14s 307ms/step - loss: 0.2756 - categorical_accuracy: 0.8969\n",
      "Epoch 85/400\n",
      "44/44 [==============================] - 13s 304ms/step - loss: 0.1987 - categorical_accuracy: 0.9332\n",
      "Epoch 86/400\n",
      "44/44 [==============================] - 13s 301ms/step - loss: 0.0282 - categorical_accuracy: 0.9964\n",
      "Epoch 87/400\n",
      "44/44 [==============================] - 13s 305ms/step - loss: 0.0403 - categorical_accuracy: 0.9927\n",
      "Epoch 88/400\n",
      "44/44 [==============================] - 13s 303ms/step - loss: 0.0189 - categorical_accuracy: 0.9956\n",
      "Epoch 89/400\n",
      "44/44 [==============================] - 13s 296ms/step - loss: 2.6213 - categorical_accuracy: 0.4401\n",
      "Epoch 90/400\n",
      "44/44 [==============================] - 13s 291ms/step - loss: 1.0542 - categorical_accuracy: 0.6819\n",
      "Epoch 91/400\n",
      "44/44 [==============================] - 13s 304ms/step - loss: 0.5760 - categorical_accuracy: 0.8322\n",
      "Epoch 92/400\n",
      "44/44 [==============================] - 13s 299ms/step - loss: 0.3537 - categorical_accuracy: 0.8889\n",
      "Epoch 93/400\n",
      "44/44 [==============================] - 13s 302ms/step - loss: 0.3195 - categorical_accuracy: 0.8983\n",
      "Epoch 94/400\n",
      "44/44 [==============================] - 13s 302ms/step - loss: 0.9784 - categorical_accuracy: 0.7226\n",
      "Epoch 95/400\n",
      "44/44 [==============================] - 15s 334ms/step - loss: 0.2822 - categorical_accuracy: 0.9339\n",
      "Epoch 96/400\n",
      "44/44 [==============================] - 14s 315ms/step - loss: 0.1668 - categorical_accuracy: 0.9666\n",
      "Epoch 97/400\n",
      "44/44 [==============================] - 13s 306ms/step - loss: 0.1334 - categorical_accuracy: 0.9840\n",
      "Epoch 98/400\n",
      "44/44 [==============================] - 13s 301ms/step - loss: 0.0865 - categorical_accuracy: 0.9964\n",
      "Epoch 99/400\n",
      "44/44 [==============================] - 13s 304ms/step - loss: 0.0698 - categorical_accuracy: 0.9920\n",
      "Epoch 100/400\n",
      "44/44 [==============================] - 13s 298ms/step - loss: 0.1651 - categorical_accuracy: 0.9564\n",
      "Epoch 101/400\n",
      "44/44 [==============================] - 13s 300ms/step - loss: 0.0694 - categorical_accuracy: 0.9898\n",
      "Epoch 102/400\n",
      "44/44 [==============================] - 13s 308ms/step - loss: 0.0213 - categorical_accuracy: 1.0000\n",
      "Epoch 103/400\n",
      "44/44 [==============================] - 13s 303ms/step - loss: 0.0117 - categorical_accuracy: 1.0000\n",
      "Epoch 104/400\n",
      "44/44 [==============================] - 14s 312ms/step - loss: 0.0071 - categorical_accuracy: 1.0000\n",
      "Epoch 105/400\n",
      "44/44 [==============================] - 13s 301ms/step - loss: 0.0045 - categorical_accuracy: 1.0000\n",
      "Epoch 106/400\n",
      "44/44 [==============================] - 13s 295ms/step - loss: 0.1241 - categorical_accuracy: 0.9586\n",
      "Epoch 107/400\n",
      "44/44 [==============================] - 13s 294ms/step - loss: 0.0694 - categorical_accuracy: 0.9884\n",
      "Epoch 108/400\n",
      "44/44 [==============================] - 14s 315ms/step - loss: 0.0312 - categorical_accuracy: 0.9956\n",
      "Epoch 109/400\n",
      "44/44 [==============================] - 14s 308ms/step - loss: 0.0346 - categorical_accuracy: 0.9942\n",
      "Epoch 110/400\n",
      "44/44 [==============================] - 13s 301ms/step - loss: 0.0636 - categorical_accuracy: 0.9826\n",
      "Epoch 111/400\n",
      "44/44 [==============================] - 14s 307ms/step - loss: 0.1434 - categorical_accuracy: 0.9528\n",
      "Epoch 112/400\n",
      "44/44 [==============================] - 14s 316ms/step - loss: 1.6858 - categorical_accuracy: 0.6674\n",
      "Epoch 113/400\n",
      "44/44 [==============================] - 13s 302ms/step - loss: 0.7985 - categorical_accuracy: 0.7792\n",
      "Epoch 114/400\n",
      "44/44 [==============================] - 13s 302ms/step - loss: 0.2848 - categorical_accuracy: 0.9419\n",
      "Epoch 115/400\n",
      "44/44 [==============================] - 13s 304ms/step - loss: 0.1339 - categorical_accuracy: 0.9644\n",
      "Epoch 116/400\n",
      "44/44 [==============================] - 14s 308ms/step - loss: 0.1582 - categorical_accuracy: 0.9557\n",
      "Epoch 117/400\n",
      "44/44 [==============================] - 13s 297ms/step - loss: 0.0519 - categorical_accuracy: 0.9942\n",
      "Epoch 118/400\n",
      "44/44 [==============================] - 13s 303ms/step - loss: 0.0421 - categorical_accuracy: 0.9935\n",
      "Epoch 119/400\n",
      "44/44 [==============================] - 13s 303ms/step - loss: 0.3732 - categorical_accuracy: 0.8824\n",
      "Epoch 120/400\n",
      "44/44 [==============================] - 13s 307ms/step - loss: 0.1535 - categorical_accuracy: 0.9521\n",
      "Epoch 121/400\n",
      "44/44 [==============================] - 13s 302ms/step - loss: 0.3664 - categorical_accuracy: 0.9012\n",
      "Epoch 122/400\n",
      "44/44 [==============================] - 13s 298ms/step - loss: 0.0955 - categorical_accuracy: 0.9855\n",
      "Epoch 123/400\n",
      "44/44 [==============================] - 13s 302ms/step - loss: 0.0257 - categorical_accuracy: 1.0000\n",
      "Epoch 124/400\n",
      "44/44 [==============================] - 13s 303ms/step - loss: 0.0208 - categorical_accuracy: 0.9978\n",
      "Epoch 125/400\n",
      "44/44 [==============================] - 13s 301ms/step - loss: 0.0133 - categorical_accuracy: 0.9978\n",
      "Epoch 126/400\n",
      "44/44 [==============================] - 13s 304ms/step - loss: 0.0086 - categorical_accuracy: 1.0000\n",
      "Epoch 127/400\n",
      "44/44 [==============================] - 14s 319ms/step - loss: 0.0142 - categorical_accuracy: 0.9978\n",
      "Epoch 128/400\n",
      "44/44 [==============================] - 14s 315ms/step - loss: 0.1809 - categorical_accuracy: 0.9455\n",
      "Epoch 129/400\n",
      "44/44 [==============================] - 14s 308ms/step - loss: 0.1965 - categorical_accuracy: 0.9470\n",
      "Epoch 130/400\n",
      "44/44 [==============================] - 13s 305ms/step - loss: 0.0223 - categorical_accuracy: 0.9971\n",
      "Epoch 131/400\n",
      "44/44 [==============================] - 13s 298ms/step - loss: 0.0107 - categorical_accuracy: 0.9993\n",
      "Epoch 132/400\n",
      "44/44 [==============================] - 13s 301ms/step - loss: 0.0075 - categorical_accuracy: 1.0000\n",
      "Epoch 133/400\n",
      "44/44 [==============================] - 13s 301ms/step - loss: 0.0051 - categorical_accuracy: 1.0000\n",
      "Epoch 134/400\n",
      "44/44 [==============================] - 13s 302ms/step - loss: 0.0048 - categorical_accuracy: 1.0000\n",
      "Epoch 135/400\n",
      "44/44 [==============================] - 13s 303ms/step - loss: 0.0055 - categorical_accuracy: 0.9993\n",
      "Epoch 136/400\n",
      "44/44 [==============================] - 14s 308ms/step - loss: 0.0034 - categorical_accuracy: 1.0000\n",
      "Epoch 137/400\n",
      "44/44 [==============================] - 13s 300ms/step - loss: 0.0034 - categorical_accuracy: 1.0000\n",
      "Epoch 138/400\n",
      "44/44 [==============================] - 13s 298ms/step - loss: 0.0023 - categorical_accuracy: 1.0000\n",
      "Epoch 139/400\n",
      "44/44 [==============================] - 13s 301ms/step - loss: 0.0052 - categorical_accuracy: 0.9993\n",
      "Epoch 140/400\n",
      "44/44 [==============================] - 13s 301ms/step - loss: 0.0107 - categorical_accuracy: 0.9971\n",
      "Epoch 141/400\n",
      "44/44 [==============================] - 13s 304ms/step - loss: 0.0093 - categorical_accuracy: 0.9971\n",
      "Epoch 142/400\n",
      "44/44 [==============================] - 13s 303ms/step - loss: 0.0032 - categorical_accuracy: 1.0000\n"
     ]
    },
    {
     "name": "stdout",
     "output_type": "stream",
     "text": [
      "Epoch 143/400\n",
      "44/44 [==============================] - 13s 294ms/step - loss: 0.0016 - categorical_accuracy: 1.0000\n",
      "Epoch 144/400\n",
      "44/44 [==============================] - 13s 296ms/step - loss: 0.0050 - categorical_accuracy: 0.9993\n",
      "Epoch 145/400\n",
      "44/44 [==============================] - 13s 305ms/step - loss: 0.1858 - categorical_accuracy: 0.9513\n",
      "Epoch 146/400\n",
      "44/44 [==============================] - 13s 305ms/step - loss: 2.3061 - categorical_accuracy: 0.4052\n",
      "Epoch 147/400\n",
      "44/44 [==============================] - 13s 304ms/step - loss: 1.8640 - categorical_accuracy: 0.4684\n",
      "Epoch 148/400\n",
      "44/44 [==============================] - 13s 302ms/step - loss: 1.3084 - categorical_accuracy: 0.5432\n",
      "Epoch 149/400\n",
      "44/44 [==============================] - 14s 312ms/step - loss: 0.7626 - categorical_accuracy: 0.7436\n",
      "Epoch 150/400\n",
      "44/44 [==============================] - 13s 300ms/step - loss: 0.6281 - categorical_accuracy: 0.7705\n",
      "Epoch 151/400\n",
      "44/44 [==============================] - 14s 311ms/step - loss: 1.2583 - categorical_accuracy: 0.6137\n",
      "Epoch 152/400\n",
      "44/44 [==============================] - 13s 305ms/step - loss: 0.5103 - categorical_accuracy: 0.8744\n",
      "Epoch 153/400\n",
      "44/44 [==============================] - 13s 303ms/step - loss: 0.2821 - categorical_accuracy: 0.9405\n",
      "Epoch 154/400\n",
      "44/44 [==============================] - 14s 309ms/step - loss: 0.2715 - categorical_accuracy: 0.9274\n",
      "Epoch 155/400\n",
      "44/44 [==============================] - 13s 302ms/step - loss: 0.2313 - categorical_accuracy: 0.9346\n",
      "Epoch 156/400\n",
      "44/44 [==============================] - 13s 307ms/step - loss: 0.1255 - categorical_accuracy: 0.9666\n",
      "Epoch 157/400\n",
      "44/44 [==============================] - 15s 337ms/step - loss: 0.0674 - categorical_accuracy: 0.9775\n",
      "Epoch 158/400\n",
      "44/44 [==============================] - 16s 364ms/step - loss: 0.0367 - categorical_accuracy: 0.9906\n",
      "Epoch 159/400\n",
      "44/44 [==============================] - 16s 370ms/step - loss: 0.0204 - categorical_accuracy: 0.9956\n",
      "Epoch 160/400\n",
      "44/44 [==============================] - 16s 361ms/step - loss: 0.0549 - categorical_accuracy: 0.9818\n",
      "Epoch 161/400\n",
      "44/44 [==============================] - 16s 361ms/step - loss: 0.0760 - categorical_accuracy: 0.9739\n",
      "Epoch 162/400\n",
      "44/44 [==============================] - 16s 371ms/step - loss: 0.9256 - categorical_accuracy: 0.7836\n",
      "Epoch 163/400\n",
      "44/44 [==============================] - 16s 366ms/step - loss: 0.1890 - categorical_accuracy: 0.9535\n",
      "Epoch 164/400\n",
      "44/44 [==============================] - 16s 369ms/step - loss: 0.0916 - categorical_accuracy: 0.9847\n",
      "Epoch 165/400\n",
      "44/44 [==============================] - 17s 378ms/step - loss: 0.0754 - categorical_accuracy: 0.9789\n",
      "Epoch 166/400\n",
      "44/44 [==============================] - 16s 357ms/step - loss: 0.0458 - categorical_accuracy: 0.9956\n",
      "Epoch 167/400\n",
      "44/44 [==============================] - 13s 300ms/step - loss: 0.0256 - categorical_accuracy: 0.9985\n",
      "Epoch 168/400\n",
      "44/44 [==============================] - 13s 303ms/step - loss: 0.0210 - categorical_accuracy: 0.9978\n",
      "Epoch 169/400\n",
      "44/44 [==============================] - 14s 322ms/step - loss: 0.0182 - categorical_accuracy: 0.9978\n",
      "Epoch 170/400\n",
      "44/44 [==============================] - 13s 300ms/step - loss: 0.0308 - categorical_accuracy: 0.9898\n",
      "Epoch 171/400\n",
      "44/44 [==============================] - 14s 310ms/step - loss: 0.0765 - categorical_accuracy: 0.9739\n",
      "Epoch 172/400\n",
      "44/44 [==============================] - 13s 306ms/step - loss: 0.1416 - categorical_accuracy: 0.9564\n",
      "Epoch 173/400\n",
      "44/44 [==============================] - 13s 298ms/step - loss: 2.5546 - categorical_accuracy: 0.3987\n",
      "Epoch 174/400\n",
      "44/44 [==============================] - 13s 299ms/step - loss: 0.8784 - categorical_accuracy: 0.7001\n",
      "Epoch 175/400\n",
      "44/44 [==============================] - 13s 299ms/step - loss: 0.5027 - categorical_accuracy: 0.8548\n",
      "Epoch 176/400\n",
      "44/44 [==============================] - 13s 297ms/step - loss: 0.2396 - categorical_accuracy: 0.9397\n",
      "Epoch 177/400\n",
      "44/44 [==============================] - 14s 313ms/step - loss: 0.4225 - categorical_accuracy: 0.8686\n",
      "Epoch 178/400\n",
      "44/44 [==============================] - 13s 296ms/step - loss: 0.2145 - categorical_accuracy: 0.9383\n",
      "Epoch 179/400\n",
      "44/44 [==============================] - 13s 297ms/step - loss: 0.0813 - categorical_accuracy: 0.9847\n",
      "Epoch 180/400\n",
      "44/44 [==============================] - 13s 301ms/step - loss: 0.1275 - categorical_accuracy: 0.9572\n",
      "Epoch 181/400\n",
      "44/44 [==============================] - 13s 296ms/step - loss: 0.0767 - categorical_accuracy: 0.9753\n",
      "Epoch 182/400\n",
      "44/44 [==============================] - 13s 304ms/step - loss: 0.0912 - categorical_accuracy: 0.9731\n",
      "Epoch 183/400\n",
      "44/44 [==============================] - 13s 298ms/step - loss: 0.2384 - categorical_accuracy: 0.9114\n",
      "Epoch 184/400\n",
      "44/44 [==============================] - 13s 303ms/step - loss: 0.0463 - categorical_accuracy: 0.9898\n",
      "Epoch 185/400\n",
      "44/44 [==============================] - 13s 302ms/step - loss: 0.0390 - categorical_accuracy: 0.9906\n",
      "Epoch 186/400\n",
      "44/44 [==============================] - 13s 293ms/step - loss: 0.0472 - categorical_accuracy: 0.9826\n",
      "Epoch 187/400\n",
      "44/44 [==============================] - 13s 296ms/step - loss: 0.0201 - categorical_accuracy: 0.9949\n",
      "Epoch 188/400\n",
      "44/44 [==============================] - 13s 298ms/step - loss: 0.0089 - categorical_accuracy: 0.9993\n",
      "Epoch 189/400\n",
      "44/44 [==============================] - 13s 296ms/step - loss: 0.1074 - categorical_accuracy: 0.9695\n",
      "Epoch 190/400\n",
      "44/44 [==============================] - 13s 300ms/step - loss: 0.0562 - categorical_accuracy: 0.9862\n",
      "Epoch 191/400\n",
      "44/44 [==============================] - 13s 299ms/step - loss: 0.0350 - categorical_accuracy: 0.9920\n",
      "Epoch 192/400\n",
      "44/44 [==============================] - 13s 302ms/step - loss: 0.0948 - categorical_accuracy: 0.9688\n",
      "Epoch 193/400\n",
      "44/44 [==============================] - 13s 301ms/step - loss: 0.1018 - categorical_accuracy: 0.9659\n",
      "Epoch 194/400\n",
      "44/44 [==============================] - 13s 303ms/step - loss: 0.0890 - categorical_accuracy: 0.9651\n",
      "Epoch 195/400\n",
      "44/44 [==============================] - 13s 299ms/step - loss: 0.1223 - categorical_accuracy: 0.9579\n",
      "Epoch 196/400\n",
      "44/44 [==============================] - 13s 304ms/step - loss: 0.0387 - categorical_accuracy: 0.9884\n",
      "Epoch 197/400\n",
      "44/44 [==============================] - 13s 295ms/step - loss: 0.0191 - categorical_accuracy: 0.9971\n",
      "Epoch 198/400\n",
      "44/44 [==============================] - 13s 304ms/step - loss: 0.0188 - categorical_accuracy: 0.9985\n",
      "Epoch 199/400\n",
      "44/44 [==============================] - 13s 296ms/step - loss: 0.1241 - categorical_accuracy: 0.9601\n",
      "Epoch 200/400\n",
      "44/44 [==============================] - 13s 297ms/step - loss: 0.0583 - categorical_accuracy: 0.9797\n",
      "Epoch 201/400\n",
      "44/44 [==============================] - 13s 297ms/step - loss: 0.0252 - categorical_accuracy: 0.9956\n",
      "Epoch 202/400\n",
      "44/44 [==============================] - 13s 296ms/step - loss: 0.0075 - categorical_accuracy: 0.9993\n",
      "Epoch 203/400\n",
      "44/44 [==============================] - 13s 299ms/step - loss: 0.0184 - categorical_accuracy: 0.9942\n",
      "Epoch 204/400\n",
      "44/44 [==============================] - 13s 297ms/step - loss: 0.0151 - categorical_accuracy: 0.9971\n",
      "Epoch 205/400\n",
      "44/44 [==============================] - 13s 298ms/step - loss: 0.0042 - categorical_accuracy: 1.0000\n",
      "Epoch 206/400\n",
      "44/44 [==============================] - 13s 293ms/step - loss: 0.0024 - categorical_accuracy: 1.0000\n",
      "Epoch 207/400\n",
      "44/44 [==============================] - 13s 302ms/step - loss: 0.0028 - categorical_accuracy: 1.0000\n",
      "Epoch 208/400\n",
      "44/44 [==============================] - 13s 300ms/step - loss: 0.0053 - categorical_accuracy: 0.9993\n",
      "Epoch 209/400\n",
      "44/44 [==============================] - 13s 294ms/step - loss: 0.3141 - categorical_accuracy: 0.9259\n",
      "Epoch 210/400\n",
      "44/44 [==============================] - 13s 301ms/step - loss: 1.3777 - categorical_accuracy: 0.7023\n",
      "Epoch 211/400\n",
      "44/44 [==============================] - 13s 296ms/step - loss: 0.1726 - categorical_accuracy: 0.9877\n",
      "Epoch 212/400\n",
      "44/44 [==============================] - 13s 298ms/step - loss: 0.0547 - categorical_accuracy: 0.9956\n",
      "Epoch 213/400\n"
     ]
    },
    {
     "name": "stdout",
     "output_type": "stream",
     "text": [
      "44/44 [==============================] - 13s 296ms/step - loss: 0.0316 - categorical_accuracy: 0.9978\n",
      "Epoch 214/400\n",
      "44/44 [==============================] - 13s 296ms/step - loss: 0.0219 - categorical_accuracy: 0.9985\n",
      "Epoch 215/400\n",
      "44/44 [==============================] - 13s 303ms/step - loss: 0.0136 - categorical_accuracy: 1.0000\n",
      "Epoch 216/400\n",
      "44/44 [==============================] - 14s 307ms/step - loss: 0.0221 - categorical_accuracy: 0.9935\n",
      "Epoch 217/400\n",
      "44/44 [==============================] - 13s 302ms/step - loss: 0.0188 - categorical_accuracy: 0.9964\n",
      "Epoch 218/400\n",
      "44/44 [==============================] - 13s 298ms/step - loss: 0.0268 - categorical_accuracy: 0.9927\n",
      "Epoch 219/400\n",
      "44/44 [==============================] - 13s 298ms/step - loss: 0.0198 - categorical_accuracy: 0.9949\n",
      "Epoch 220/400\n",
      "44/44 [==============================] - 13s 300ms/step - loss: 0.0273 - categorical_accuracy: 0.9906\n",
      "Epoch 221/400\n",
      "44/44 [==============================] - 13s 297ms/step - loss: 0.0183 - categorical_accuracy: 0.9956\n",
      "Epoch 222/400\n",
      "44/44 [==============================] - 13s 296ms/step - loss: 0.0090 - categorical_accuracy: 0.9985\n",
      "Epoch 223/400\n",
      "44/44 [==============================] - 13s 298ms/step - loss: 0.0030 - categorical_accuracy: 1.0000\n",
      "Epoch 224/400\n",
      "44/44 [==============================] - 13s 299ms/step - loss: 0.0024 - categorical_accuracy: 1.0000\n",
      "Epoch 225/400\n",
      "44/44 [==============================] - 13s 297ms/step - loss: 0.0042 - categorical_accuracy: 0.9993\n",
      "Epoch 226/400\n",
      "44/44 [==============================] - 13s 301ms/step - loss: 0.0021 - categorical_accuracy: 1.0000\n",
      "Epoch 227/400\n",
      "44/44 [==============================] - 13s 292ms/step - loss: 0.0016 - categorical_accuracy: 1.0000\n",
      "Epoch 228/400\n",
      "44/44 [==============================] - 13s 292ms/step - loss: 0.0017 - categorical_accuracy: 1.0000\n",
      "Epoch 229/400\n",
      "44/44 [==============================] - 13s 298ms/step - loss: 0.0013 - categorical_accuracy: 1.0000\n",
      "Epoch 230/400\n",
      "44/44 [==============================] - 13s 298ms/step - loss: 0.0014 - categorical_accuracy: 1.0000\n",
      "Epoch 231/400\n",
      "44/44 [==============================] - 13s 297ms/step - loss: 0.0042 - categorical_accuracy: 0.9993\n",
      "Epoch 232/400\n",
      "44/44 [==============================] - 13s 294ms/step - loss: 0.1613 - categorical_accuracy: 0.9484\n",
      "Epoch 233/400\n",
      "44/44 [==============================] - 13s 301ms/step - loss: 1.6912 - categorical_accuracy: 0.5948\n",
      "Epoch 234/400\n",
      "44/44 [==============================] - 13s 301ms/step - loss: 0.2783 - categorical_accuracy: 0.9731\n",
      "Epoch 235/400\n",
      "44/44 [==============================] - 13s 304ms/step - loss: 7.5775 - categorical_accuracy: 0.5396\n",
      "Epoch 236/400\n",
      "44/44 [==============================] - 13s 307ms/step - loss: 2.7341 - categorical_accuracy: 0.1525\n",
      "Epoch 237/400\n",
      "44/44 [==============================] - 13s 295ms/step - loss: 2.1361 - categorical_accuracy: 0.2687\n",
      "Epoch 238/400\n",
      "44/44 [==============================] - 13s 301ms/step - loss: 1.5007 - categorical_accuracy: 0.4938\n",
      "Epoch 239/400\n",
      "44/44 [==============================] - 13s 299ms/step - loss: 1.5001 - categorical_accuracy: 0.5185\n",
      "Epoch 240/400\n",
      "44/44 [==============================] - 13s 302ms/step - loss: 0.7763 - categorical_accuracy: 0.7894\n",
      "Epoch 241/400\n",
      "44/44 [==============================] - 13s 296ms/step - loss: 0.7219 - categorical_accuracy: 0.8061\n",
      "Epoch 242/400\n",
      "44/44 [==============================] - 13s 295ms/step - loss: 0.4353 - categorical_accuracy: 0.9078\n",
      "Epoch 243/400\n",
      "44/44 [==============================] - 13s 297ms/step - loss: 0.4272 - categorical_accuracy: 0.8874\n",
      "Epoch 244/400\n",
      "44/44 [==============================] - 13s 298ms/step - loss: 0.3259 - categorical_accuracy: 0.8954\n",
      "Epoch 245/400\n",
      "44/44 [==============================] - 13s 299ms/step - loss: 0.4019 - categorical_accuracy: 0.8671\n",
      "Epoch 246/400\n",
      "44/44 [==============================] - 14s 324ms/step - loss: 0.2015 - categorical_accuracy: 0.9593\n",
      "Epoch 247/400\n",
      "44/44 [==============================] - 13s 305ms/step - loss: 0.2008 - categorical_accuracy: 0.9361\n",
      "Epoch 248/400\n",
      "44/44 [==============================] - 13s 300ms/step - loss: 0.1488 - categorical_accuracy: 0.9644\n",
      "Epoch 249/400\n",
      "44/44 [==============================] - 13s 296ms/step - loss: 0.1692 - categorical_accuracy: 0.9572\n",
      "Epoch 250/400\n",
      "44/44 [==============================] - 13s 300ms/step - loss: 0.1278 - categorical_accuracy: 0.9630\n",
      "Epoch 251/400\n",
      "44/44 [==============================] - 13s 295ms/step - loss: 0.2670 - categorical_accuracy: 0.9136\n",
      "Epoch 252/400\n",
      "44/44 [==============================] - 13s 299ms/step - loss: 0.0949 - categorical_accuracy: 0.9731\n",
      "Epoch 253/400\n",
      "44/44 [==============================] - 13s 303ms/step - loss: 0.1297 - categorical_accuracy: 0.9579\n",
      "Epoch 254/400\n",
      "44/44 [==============================] - 13s 305ms/step - loss: 0.0762 - categorical_accuracy: 0.9739\n",
      "Epoch 255/400\n",
      "44/44 [==============================] - 13s 298ms/step - loss: 0.0564 - categorical_accuracy: 0.9833\n",
      "Epoch 256/400\n",
      "44/44 [==============================] - 13s 303ms/step - loss: 0.0592 - categorical_accuracy: 0.9789\n",
      "Epoch 257/400\n",
      "44/44 [==============================] - 13s 305ms/step - loss: 0.0593 - categorical_accuracy: 0.9804\n",
      "Epoch 258/400\n",
      "44/44 [==============================] - 13s 300ms/step - loss: 0.2449 - categorical_accuracy: 0.9158\n",
      "Epoch 259/400\n",
      "44/44 [==============================] - 13s 304ms/step - loss: 0.1054 - categorical_accuracy: 0.9695\n",
      "Epoch 260/400\n",
      "44/44 [==============================] - 13s 297ms/step - loss: 0.0793 - categorical_accuracy: 0.9710\n",
      "Epoch 261/400\n",
      "44/44 [==============================] - 13s 305ms/step - loss: 0.0764 - categorical_accuracy: 0.9673\n",
      "Epoch 262/400\n",
      "44/44 [==============================] - 14s 307ms/step - loss: 0.0865 - categorical_accuracy: 0.9673\n",
      "Epoch 263/400\n",
      "44/44 [==============================] - 13s 303ms/step - loss: 0.0461 - categorical_accuracy: 0.9847\n",
      "Epoch 264/400\n",
      "44/44 [==============================] - 14s 315ms/step - loss: 0.0680 - categorical_accuracy: 0.9782\n",
      "Epoch 265/400\n",
      "44/44 [==============================] - 15s 334ms/step - loss: 0.0601 - categorical_accuracy: 0.9789\n",
      "Epoch 266/400\n",
      "44/44 [==============================] - 16s 355ms/step - loss: 0.0498 - categorical_accuracy: 0.9833\n",
      "Epoch 267/400\n",
      "44/44 [==============================] - 14s 323ms/step - loss: 0.0597 - categorical_accuracy: 0.9775\n",
      "Epoch 268/400\n",
      "44/44 [==============================] - 13s 297ms/step - loss: 0.1536 - categorical_accuracy: 0.9470\n",
      "Epoch 269/400\n",
      "44/44 [==============================] - 13s 293ms/step - loss: 0.0436 - categorical_accuracy: 0.9877\n",
      "Epoch 270/400\n",
      "44/44 [==============================] - 13s 293ms/step - loss: 0.0420 - categorical_accuracy: 0.9884\n",
      "Epoch 271/400\n",
      "44/44 [==============================] - 13s 304ms/step - loss: 0.0687 - categorical_accuracy: 0.9760\n",
      "Epoch 272/400\n",
      "44/44 [==============================] - 13s 300ms/step - loss: 0.0417 - categorical_accuracy: 0.9862\n",
      "Epoch 273/400\n",
      "44/44 [==============================] - 13s 303ms/step - loss: 0.0305 - categorical_accuracy: 0.9920\n",
      "Epoch 274/400\n",
      "44/44 [==============================] - 13s 300ms/step - loss: 0.8821 - categorical_accuracy: 0.8475\n",
      "Epoch 275/400\n",
      "44/44 [==============================] - 13s 296ms/step - loss: 0.1110 - categorical_accuracy: 0.9826\n",
      "Epoch 276/400\n",
      "44/44 [==============================] - 13s 302ms/step - loss: 0.0649 - categorical_accuracy: 0.9840\n",
      "Epoch 277/400\n",
      "44/44 [==============================] - 13s 295ms/step - loss: 0.0438 - categorical_accuracy: 0.9906\n",
      "Epoch 278/400\n",
      "44/44 [==============================] - 13s 300ms/step - loss: 0.0435 - categorical_accuracy: 0.9891\n",
      "Epoch 279/400\n",
      "44/44 [==============================] - 13s 297ms/step - loss: 0.0402 - categorical_accuracy: 0.9869\n",
      "Epoch 280/400\n",
      "44/44 [==============================] - 13s 299ms/step - loss: 0.0434 - categorical_accuracy: 0.9891\n",
      "Epoch 281/400\n",
      "44/44 [==============================] - 13s 298ms/step - loss: 0.0422 - categorical_accuracy: 0.9891\n",
      "Epoch 282/400\n",
      "44/44 [==============================] - 13s 295ms/step - loss: 0.0753 - categorical_accuracy: 0.9789\n",
      "Epoch 283/400\n"
     ]
    },
    {
     "name": "stdout",
     "output_type": "stream",
     "text": [
      "44/44 [==============================] - 13s 302ms/step - loss: 0.0580 - categorical_accuracy: 0.9855\n",
      "Epoch 284/400\n",
      "44/44 [==============================] - 13s 294ms/step - loss: 0.0865 - categorical_accuracy: 0.9673\n",
      "Epoch 285/400\n",
      "44/44 [==============================] - 14s 310ms/step - loss: 0.0560 - categorical_accuracy: 0.9840\n",
      "Epoch 286/400\n",
      "44/44 [==============================] - 14s 316ms/step - loss: 0.0589 - categorical_accuracy: 0.9804\n",
      "Epoch 287/400\n",
      "44/44 [==============================] - 13s 302ms/step - loss: 0.0384 - categorical_accuracy: 0.9869\n",
      "Epoch 288/400\n",
      "44/44 [==============================] - 13s 299ms/step - loss: 0.0273 - categorical_accuracy: 0.9920\n",
      "Epoch 289/400\n",
      "44/44 [==============================] - 13s 300ms/step - loss: 0.0329 - categorical_accuracy: 0.9906\n",
      "Epoch 290/400\n",
      "44/44 [==============================] - 14s 327ms/step - loss: 1.3561 - categorical_accuracy: 0.9041\n",
      "Epoch 291/400\n",
      "44/44 [==============================] - 14s 319ms/step - loss: 3.4652 - categorical_accuracy: 0.2302\n",
      "Epoch 292/400\n",
      "44/44 [==============================] - 13s 305ms/step - loss: 1.6032 - categorical_accuracy: 0.5374\n",
      "Epoch 293/400\n",
      "44/44 [==============================] - 13s 301ms/step - loss: 0.7171 - categorical_accuracy: 0.7814\n",
      "Epoch 294/400\n",
      "44/44 [==============================] - 14s 308ms/step - loss: 0.2287 - categorical_accuracy: 0.9375\n",
      "Epoch 295/400\n",
      "44/44 [==============================] - 14s 308ms/step - loss: 0.1168 - categorical_accuracy: 0.9630\n",
      "Epoch 296/400\n",
      "44/44 [==============================] - 13s 301ms/step - loss: 0.1212 - categorical_accuracy: 0.9680\n",
      "Epoch 297/400\n",
      "44/44 [==============================] - 14s 308ms/step - loss: 0.0624 - categorical_accuracy: 0.9833\n",
      "Epoch 298/400\n",
      "44/44 [==============================] - 13s 300ms/step - loss: 0.0570 - categorical_accuracy: 0.9811\n",
      "Epoch 299/400\n",
      "44/44 [==============================] - 13s 302ms/step - loss: 0.0418 - categorical_accuracy: 0.9862\n",
      "Epoch 300/400\n",
      "44/44 [==============================] - 13s 306ms/step - loss: 0.0318 - categorical_accuracy: 0.9898\n",
      "Epoch 301/400\n",
      "44/44 [==============================] - 13s 303ms/step - loss: 0.0256 - categorical_accuracy: 0.9920\n",
      "Epoch 302/400\n",
      "44/44 [==============================] - 14s 307ms/step - loss: 0.0930 - categorical_accuracy: 0.9702\n",
      "Epoch 303/400\n",
      "44/44 [==============================] - 14s 321ms/step - loss: 0.0621 - categorical_accuracy: 0.9840\n",
      "Epoch 304/400\n",
      "44/44 [==============================] - 13s 301ms/step - loss: 0.0742 - categorical_accuracy: 0.9760\n",
      "Epoch 305/400\n",
      "44/44 [==============================] - 14s 323ms/step - loss: 0.0287 - categorical_accuracy: 0.9898\n",
      "Epoch 306/400\n",
      "44/44 [==============================] - 14s 316ms/step - loss: 0.0252 - categorical_accuracy: 0.9898\n",
      "Epoch 307/400\n",
      "44/44 [==============================] - 14s 311ms/step - loss: 0.0225 - categorical_accuracy: 0.9927\n",
      "Epoch 308/400\n",
      "44/44 [==============================] - 13s 303ms/step - loss: 0.0261 - categorical_accuracy: 0.9920\n",
      "Epoch 309/400\n",
      "44/44 [==============================] - 13s 304ms/step - loss: 0.0941 - categorical_accuracy: 0.9760\n",
      "Epoch 310/400\n",
      "44/44 [==============================] - 13s 301ms/step - loss: 0.0268 - categorical_accuracy: 0.9949\n",
      "Epoch 311/400\n",
      "44/44 [==============================] - 13s 299ms/step - loss: 0.0158 - categorical_accuracy: 0.9949\n",
      "Epoch 312/400\n",
      "44/44 [==============================] - 13s 297ms/step - loss: 0.0165 - categorical_accuracy: 0.9949\n",
      "Epoch 313/400\n",
      "44/44 [==============================] - 15s 332ms/step - loss: 0.0108 - categorical_accuracy: 0.9964\n",
      "Epoch 314/400\n",
      "44/44 [==============================] - 14s 311ms/step - loss: 0.0384 - categorical_accuracy: 0.9862\n",
      "Epoch 315/400\n",
      "44/44 [==============================] - 14s 309ms/step - loss: 0.0218 - categorical_accuracy: 0.9927\n",
      "Epoch 316/400\n",
      "44/44 [==============================] - 13s 298ms/step - loss: 0.0383 - categorical_accuracy: 0.9869\n",
      "Epoch 317/400\n",
      "44/44 [==============================] - 13s 300ms/step - loss: 0.0656 - categorical_accuracy: 0.9768\n",
      "Epoch 318/400\n",
      "44/44 [==============================] - 14s 326ms/step - loss: 1.5026 - categorical_accuracy: 0.6231\n",
      "Epoch 319/400\n",
      "44/44 [==============================] - 13s 298ms/step - loss: 0.2632 - categorical_accuracy: 0.9746\n",
      "Epoch 320/400\n",
      "44/44 [==============================] - 13s 297ms/step - loss: 0.0765 - categorical_accuracy: 0.9877\n",
      "Epoch 321/400\n",
      "44/44 [==============================] - 13s 299ms/step - loss: 0.0439 - categorical_accuracy: 0.9884\n",
      "Epoch 322/400\n",
      "44/44 [==============================] - 13s 296ms/step - loss: 0.0296 - categorical_accuracy: 0.9942\n",
      "Epoch 323/400\n",
      "44/44 [==============================] - 13s 294ms/step - loss: 0.0484 - categorical_accuracy: 0.9891\n",
      "Epoch 324/400\n",
      "44/44 [==============================] - 13s 294ms/step - loss: 0.0321 - categorical_accuracy: 0.9920\n",
      "Epoch 325/400\n",
      "44/44 [==============================] - 13s 297ms/step - loss: 0.2469 - categorical_accuracy: 0.9339\n",
      "Epoch 326/400\n",
      "44/44 [==============================] - 13s 291ms/step - loss: 0.0457 - categorical_accuracy: 0.9927\n",
      "Epoch 327/400\n",
      "44/44 [==============================] - 13s 294ms/step - loss: 0.0344 - categorical_accuracy: 0.9906\n",
      "Epoch 328/400\n",
      "44/44 [==============================] - 13s 307ms/step - loss: 0.0166 - categorical_accuracy: 0.9949\n",
      "Epoch 329/400\n",
      "44/44 [==============================] - 13s 293ms/step - loss: 0.0212 - categorical_accuracy: 0.9913\n",
      "Epoch 330/400\n",
      "44/44 [==============================] - 13s 295ms/step - loss: 0.0116 - categorical_accuracy: 0.9978\n",
      "Epoch 331/400\n",
      "44/44 [==============================] - 13s 294ms/step - loss: 0.0086 - categorical_accuracy: 0.9985\n",
      "Epoch 332/400\n",
      "44/44 [==============================] - 13s 291ms/step - loss: 0.0138 - categorical_accuracy: 0.9935\n",
      "Epoch 333/400\n",
      "44/44 [==============================] - 13s 292ms/step - loss: 0.0831 - categorical_accuracy: 0.9731\n",
      "Epoch 334/400\n",
      "44/44 [==============================] - 13s 296ms/step - loss: 0.0888 - categorical_accuracy: 0.9731\n",
      "Epoch 335/400\n",
      "44/44 [==============================] - 13s 296ms/step - loss: 0.0198 - categorical_accuracy: 0.9956\n",
      "Epoch 336/400\n",
      "44/44 [==============================] - 13s 293ms/step - loss: 0.0162 - categorical_accuracy: 0.9949\n",
      "Epoch 337/400\n",
      "44/44 [==============================] - 13s 298ms/step - loss: 0.0325 - categorical_accuracy: 0.9920\n",
      "Epoch 338/400\n",
      "44/44 [==============================] - 13s 297ms/step - loss: 0.0140 - categorical_accuracy: 0.9949\n",
      "Epoch 339/400\n",
      "44/44 [==============================] - 13s 297ms/step - loss: 0.0375 - categorical_accuracy: 0.9877\n",
      "Epoch 340/400\n",
      "44/44 [==============================] - 13s 301ms/step - loss: 0.0539 - categorical_accuracy: 0.9833\n",
      "Epoch 341/400\n",
      "44/44 [==============================] - 13s 295ms/step - loss: 0.0286 - categorical_accuracy: 0.9913\n",
      "Epoch 342/400\n",
      "44/44 [==============================] - 13s 294ms/step - loss: 0.0137 - categorical_accuracy: 0.9956\n",
      "Epoch 343/400\n",
      "44/44 [==============================] - 13s 295ms/step - loss: 0.0175 - categorical_accuracy: 0.9942\n",
      "Epoch 344/400\n",
      "44/44 [==============================] - 13s 303ms/step - loss: 0.0221 - categorical_accuracy: 0.9935\n",
      "Epoch 345/400\n",
      "44/44 [==============================] - 13s 297ms/step - loss: 0.0146 - categorical_accuracy: 0.9935\n",
      "Epoch 346/400\n",
      "44/44 [==============================] - 13s 305ms/step - loss: 0.0061 - categorical_accuracy: 0.9985\n",
      "Epoch 347/400\n",
      "44/44 [==============================] - 13s 306ms/step - loss: 0.0040 - categorical_accuracy: 0.9993\n",
      "Epoch 348/400\n",
      "44/44 [==============================] - 13s 299ms/step - loss: 0.0134 - categorical_accuracy: 0.9935\n",
      "Epoch 349/400\n",
      "44/44 [==============================] - 13s 296ms/step - loss: 0.1011 - categorical_accuracy: 0.9731\n",
      "Epoch 350/400\n",
      "44/44 [==============================] - 13s 303ms/step - loss: 0.0769 - categorical_accuracy: 0.9746\n",
      "Epoch 351/400\n",
      "44/44 [==============================] - 13s 305ms/step - loss: 0.1975 - categorical_accuracy: 0.9405\n",
      "Epoch 352/400\n",
      "44/44 [==============================] - 13s 303ms/step - loss: 0.0217 - categorical_accuracy: 0.9956\n",
      "Epoch 353/400\n"
     ]
    },
    {
     "name": "stdout",
     "output_type": "stream",
     "text": [
      "44/44 [==============================] - 13s 293ms/step - loss: 0.0086 - categorical_accuracy: 0.9971\n",
      "Epoch 354/400\n",
      "44/44 [==============================] - 13s 291ms/step - loss: 0.0125 - categorical_accuracy: 0.9949\n",
      "Epoch 355/400\n",
      "44/44 [==============================] - 13s 295ms/step - loss: 0.0216 - categorical_accuracy: 0.9942\n",
      "Epoch 356/400\n",
      "44/44 [==============================] - 13s 296ms/step - loss: 0.0255 - categorical_accuracy: 0.9898\n",
      "Epoch 357/400\n",
      "44/44 [==============================] - 13s 298ms/step - loss: 0.0378 - categorical_accuracy: 0.9855\n",
      "Epoch 358/400\n",
      "44/44 [==============================] - 13s 293ms/step - loss: 0.0196 - categorical_accuracy: 0.9920\n",
      "Epoch 359/400\n",
      "44/44 [==============================] - 13s 294ms/step - loss: 0.0098 - categorical_accuracy: 0.9964\n",
      "Epoch 360/400\n",
      "44/44 [==============================] - 13s 300ms/step - loss: 0.0350 - categorical_accuracy: 0.9855\n",
      "Epoch 361/400\n",
      "44/44 [==============================] - 13s 294ms/step - loss: 0.0204 - categorical_accuracy: 0.9927\n",
      "Epoch 362/400\n",
      "44/44 [==============================] - 13s 294ms/step - loss: 0.2365 - categorical_accuracy: 0.9361\n",
      "Epoch 363/400\n",
      "44/44 [==============================] - 13s 303ms/step - loss: 0.0730 - categorical_accuracy: 0.9811\n",
      "Epoch 364/400\n",
      "44/44 [==============================] - 14s 318ms/step - loss: 0.0158 - categorical_accuracy: 0.9978\n",
      "Epoch 365/400\n",
      "44/44 [==============================] - 13s 296ms/step - loss: 0.0095 - categorical_accuracy: 0.9978\n",
      "Epoch 366/400\n",
      "44/44 [==============================] - 13s 296ms/step - loss: 0.0204 - categorical_accuracy: 0.9935\n",
      "Epoch 367/400\n",
      "44/44 [==============================] - 13s 298ms/step - loss: 0.4370 - categorical_accuracy: 0.8794\n",
      "Epoch 368/400\n",
      "44/44 [==============================] - 13s 295ms/step - loss: 0.2413 - categorical_accuracy: 0.9237\n",
      "Epoch 369/400\n",
      "44/44 [==============================] - 13s 294ms/step - loss: 0.0347 - categorical_accuracy: 0.9949\n",
      "Epoch 370/400\n",
      "44/44 [==============================] - 13s 296ms/step - loss: 0.0131 - categorical_accuracy: 0.9985\n",
      "Epoch 371/400\n",
      "44/44 [==============================] - 13s 295ms/step - loss: 0.0127 - categorical_accuracy: 0.9971\n",
      "Epoch 372/400\n",
      "44/44 [==============================] - 13s 295ms/step - loss: 0.0108 - categorical_accuracy: 0.9978\n",
      "Epoch 373/400\n",
      "44/44 [==============================] - 13s 298ms/step - loss: 0.0114 - categorical_accuracy: 0.9978\n",
      "Epoch 374/400\n",
      "44/44 [==============================] - 14s 320ms/step - loss: 0.0096 - categorical_accuracy: 0.9985\n",
      "Epoch 375/400\n",
      "44/44 [==============================] - 14s 320ms/step - loss: 0.0089 - categorical_accuracy: 0.9978\n",
      "Epoch 376/400\n",
      "44/44 [==============================] - 14s 308ms/step - loss: 0.0066 - categorical_accuracy: 0.9978\n",
      "Epoch 377/400\n",
      "44/44 [==============================] - 15s 332ms/step - loss: 0.0130 - categorical_accuracy: 0.9964\n",
      "Epoch 378/400\n",
      "44/44 [==============================] - 17s 389ms/step - loss: 0.3782 - categorical_accuracy: 0.8962\n",
      "Epoch 379/400\n",
      "44/44 [==============================] - 15s 344ms/step - loss: 0.0897 - categorical_accuracy: 0.9775\n",
      "Epoch 380/400\n",
      "44/44 [==============================] - 14s 306ms/step - loss: 0.0194 - categorical_accuracy: 0.9971\n",
      "Epoch 381/400\n",
      "44/44 [==============================] - 13s 291ms/step - loss: 0.0107 - categorical_accuracy: 0.9993\n",
      "Epoch 382/400\n",
      "44/44 [==============================] - 14s 314ms/step - loss: 0.0110 - categorical_accuracy: 0.9985\n",
      "Epoch 383/400\n",
      "44/44 [==============================] - 13s 302ms/step - loss: 0.0705 - categorical_accuracy: 0.9782\n",
      "Epoch 384/400\n",
      "44/44 [==============================] - 13s 293ms/step - loss: 0.0600 - categorical_accuracy: 0.9775\n",
      "Epoch 385/400\n",
      "44/44 [==============================] - 13s 296ms/step - loss: 0.0683 - categorical_accuracy: 0.9768\n",
      "Epoch 386/400\n",
      "44/44 [==============================] - 13s 295ms/step - loss: 0.0268 - categorical_accuracy: 0.9935\n",
      "Epoch 387/400\n",
      "44/44 [==============================] - 13s 296ms/step - loss: 0.0087 - categorical_accuracy: 0.9985\n",
      "Epoch 388/400\n",
      "44/44 [==============================] - 13s 307ms/step - loss: 0.0128 - categorical_accuracy: 0.9956\n",
      "Epoch 389/400\n",
      "44/44 [==============================] - 14s 306ms/step - loss: 0.0105 - categorical_accuracy: 0.9956\n",
      "Epoch 390/400\n",
      "44/44 [==============================] - 13s 300ms/step - loss: 0.0242 - categorical_accuracy: 0.9949\n",
      "Epoch 391/400\n",
      "44/44 [==============================] - 13s 301ms/step - loss: 0.0157 - categorical_accuracy: 0.9956\n",
      "Epoch 392/400\n",
      "44/44 [==============================] - 13s 300ms/step - loss: 0.0148 - categorical_accuracy: 0.9964\n",
      "Epoch 393/400\n",
      "44/44 [==============================] - 13s 300ms/step - loss: 0.0070 - categorical_accuracy: 0.9978\n",
      "Epoch 394/400\n",
      "44/44 [==============================] - 13s 304ms/step - loss: 0.0036 - categorical_accuracy: 0.9993\n",
      "Epoch 395/400\n",
      "44/44 [==============================] - 13s 294ms/step - loss: 0.0306 - categorical_accuracy: 0.9862\n",
      "Epoch 396/400\n",
      "44/44 [==============================] - 13s 303ms/step - loss: 1.3771 - categorical_accuracy: 0.6521\n",
      "Epoch 397/400\n",
      "44/44 [==============================] - 13s 305ms/step - loss: 0.2319 - categorical_accuracy: 0.9666\n",
      "Epoch 398/400\n",
      "44/44 [==============================] - 13s 306ms/step - loss: 0.0600 - categorical_accuracy: 0.9935\n",
      "Epoch 399/400\n",
      "44/44 [==============================] - 13s 295ms/step - loss: 0.0265 - categorical_accuracy: 0.9964\n",
      "Epoch 400/400\n",
      "44/44 [==============================] - 13s 298ms/step - loss: 0.0396 - categorical_accuracy: 0.9884\n"
     ]
    },
    {
     "data": {
      "text/plain": [
       "<keras.callbacks.History at 0x146ea8a6c80>"
      ]
     },
     "execution_count": 26,
     "metadata": {},
     "output_type": "execute_result"
    }
   ],
   "source": [
    "model.fit(X_train, y_train, epochs=400)"
   ]
  },
  {
   "cell_type": "code",
   "execution_count": 27,
   "id": "f5bbc733",
   "metadata": {},
   "outputs": [
    {
     "name": "stdout",
     "output_type": "stream",
     "text": [
      "Model: \"sequential\"\n",
      "_________________________________________________________________\n",
      " Layer (type)                Output Shape              Param #   \n",
      "=================================================================\n",
      " lstm (LSTM)                 (None, 30, 128)           98304     \n",
      "                                                                 \n",
      " lstm_1 (LSTM)               (None, 30, 128)           131584    \n",
      "                                                                 \n",
      " lstm_2 (LSTM)               (None, 64)                49408     \n",
      "                                                                 \n",
      " dense (Dense)               (None, 64)                4160      \n",
      "                                                                 \n",
      " dense_1 (Dense)             (None, 32)                2080      \n",
      "                                                                 \n",
      " dense_2 (Dense)             (None, 29)                957       \n",
      "                                                                 \n",
      "=================================================================\n",
      "Total params: 286,493\n",
      "Trainable params: 286,493\n",
      "Non-trainable params: 0\n",
      "_________________________________________________________________\n"
     ]
    }
   ],
   "source": [
    "model.summary()"
   ]
  },
  {
   "cell_type": "code",
   "execution_count": 28,
   "id": "dd1fa007",
   "metadata": {},
   "outputs": [
    {
     "name": "stdout",
     "output_type": "stream",
     "text": [
      "3/3 [==============================] - 1s 34ms/step\n"
     ]
    }
   ],
   "source": [
    "res = model.predict(X_test)"
   ]
  },
  {
   "cell_type": "code",
   "execution_count": 29,
   "id": "447ac422",
   "metadata": {},
   "outputs": [
    {
     "data": {
      "text/plain": [
       "'C'"
      ]
     },
     "execution_count": 29,
     "metadata": {},
     "output_type": "execute_result"
    }
   ],
   "source": [
    "Alphabet[np.argmax(res[3])]"
   ]
  },
  {
   "cell_type": "code",
   "execution_count": 30,
   "id": "622ca9e9",
   "metadata": {},
   "outputs": [
    {
     "data": {
      "text/plain": [
       "'C'"
      ]
     },
     "execution_count": 30,
     "metadata": {},
     "output_type": "execute_result"
    }
   ],
   "source": [
    "Alphabet[np.argmax(y_test[3])]"
   ]
  },
  {
   "cell_type": "code",
   "execution_count": 31,
   "id": "34400780",
   "metadata": {},
   "outputs": [
    {
     "name": "stdout",
     "output_type": "stream",
     "text": [
      "WARNING:tensorflow:Please fix your imports. Module tensorflow.python.training.tracking.trackable_utils has been moved to tensorflow.python.trackable.trackable_utils. The old module will be deleted in version 2.11.\n",
      "INFO:tensorflow:Assets written to: action.h9\\assets\n"
     ]
    }
   ],
   "source": [
    "#model.save('action.h8')"
   ]
  },
  {
   "cell_type": "code",
   "execution_count": 32,
   "id": "69f6b773",
   "metadata": {},
   "outputs": [
    {
     "data": {
      "text/plain": [
       "<tensorflow.python.checkpoint.checkpoint.CheckpointLoadStatus at 0x147ad4c32b0>"
      ]
     },
     "execution_count": 32,
     "metadata": {},
     "output_type": "execute_result"
    }
   ],
   "source": [
    "model.load_weights('action.h8')"
   ]
  },
  {
   "cell_type": "code",
   "execution_count": 33,
   "id": "4206208a",
   "metadata": {},
   "outputs": [
    {
     "name": "stdout",
     "output_type": "stream",
     "text": [
      "WARNING:tensorflow:Layer lstm will not use cuDNN kernels since it doesn't meet the criteria. It will use a generic GPU kernel as fallback when running on GPU.\n",
      "WARNING:tensorflow:Layer lstm_1 will not use cuDNN kernels since it doesn't meet the criteria. It will use a generic GPU kernel as fallback when running on GPU.\n",
      "WARNING:tensorflow:Layer lstm_2 will not use cuDNN kernels since it doesn't meet the criteria. It will use a generic GPU kernel as fallback when running on GPU.\n",
      "WARNING:tensorflow:Please fix your imports. Module tensorflow.python.training.tracking.data_structures has been moved to tensorflow.python.trackable.data_structures. The old module will be deleted in version 2.11.\n"
     ]
    }
   ],
   "source": [
    "from tensorflow import keras\n",
    "model = keras.models.load_model('action.h8')"
   ]
  },
  {
   "cell_type": "code",
   "execution_count": 34,
   "id": "7a8f4bb6",
   "metadata": {},
   "outputs": [],
   "source": [
    "from sklearn.metrics import multilabel_confusion_matrix, accuracy_score\n",
    "import seaborn as sns"
   ]
  },
  {
   "cell_type": "code",
   "execution_count": 35,
   "id": "dbb55fe6",
   "metadata": {},
   "outputs": [
    {
     "name": "stdout",
     "output_type": "stream",
     "text": [
      "3/3 [==============================] - 1s 66ms/step\n"
     ]
    }
   ],
   "source": [
    "yhat = model.predict(X_test)"
   ]
  },
  {
   "cell_type": "code",
   "execution_count": 36,
   "id": "b65a123f",
   "metadata": {},
   "outputs": [],
   "source": [
    "ytrue = np.argmax(y_test, axis=1).tolist()\n",
    "yhat = np.argmax(yhat, axis=1).tolist()"
   ]
  },
  {
   "cell_type": "code",
   "execution_count": 37,
   "id": "7c2724e6",
   "metadata": {},
   "outputs": [
    {
     "data": {
      "text/plain": [
       "array([[[72,  0],\n",
       "        [ 0,  1]],\n",
       "\n",
       "       [[70,  0],\n",
       "        [ 0,  3]],\n",
       "\n",
       "       [[70,  0],\n",
       "        [ 0,  3]],\n",
       "\n",
       "       [[70,  0],\n",
       "        [ 0,  3]],\n",
       "\n",
       "       [[67,  0],\n",
       "        [ 0,  6]],\n",
       "\n",
       "       [[71,  0],\n",
       "        [ 0,  2]],\n",
       "\n",
       "       [[72,  0],\n",
       "        [ 0,  1]],\n",
       "\n",
       "       [[72,  0],\n",
       "        [ 0,  1]],\n",
       "\n",
       "       [[72,  0],\n",
       "        [ 0,  1]],\n",
       "\n",
       "       [[66,  0],\n",
       "        [ 0,  7]],\n",
       "\n",
       "       [[71,  0],\n",
       "        [ 0,  2]],\n",
       "\n",
       "       [[72,  0],\n",
       "        [ 0,  1]],\n",
       "\n",
       "       [[70,  0],\n",
       "        [ 0,  3]],\n",
       "\n",
       "       [[71,  0],\n",
       "        [ 0,  2]],\n",
       "\n",
       "       [[70,  0],\n",
       "        [ 0,  3]],\n",
       "\n",
       "       [[72,  0],\n",
       "        [ 0,  1]],\n",
       "\n",
       "       [[71,  0],\n",
       "        [ 0,  2]],\n",
       "\n",
       "       [[70,  0],\n",
       "        [ 0,  3]],\n",
       "\n",
       "       [[70,  0],\n",
       "        [ 0,  3]],\n",
       "\n",
       "       [[66,  0],\n",
       "        [ 0,  7]],\n",
       "\n",
       "       [[71,  0],\n",
       "        [ 0,  2]],\n",
       "\n",
       "       [[72,  0],\n",
       "        [ 0,  1]],\n",
       "\n",
       "       [[70,  0],\n",
       "        [ 0,  3]],\n",
       "\n",
       "       [[71,  0],\n",
       "        [ 0,  2]],\n",
       "\n",
       "       [[69,  0],\n",
       "        [ 0,  4]],\n",
       "\n",
       "       [[69,  0],\n",
       "        [ 0,  4]],\n",
       "\n",
       "       [[71,  0],\n",
       "        [ 0,  2]]], dtype=int64)"
      ]
     },
     "execution_count": 37,
     "metadata": {},
     "output_type": "execute_result"
    }
   ],
   "source": [
    "multilabel_confusion_matrix(ytrue, yhat)"
   ]
  },
  {
   "cell_type": "code",
   "execution_count": 38,
   "id": "c72b25ea",
   "metadata": {},
   "outputs": [
    {
     "data": {
      "text/plain": [
       "1.0"
      ]
     },
     "execution_count": 38,
     "metadata": {},
     "output_type": "execute_result"
    }
   ],
   "source": [
    "accuracy_score(ytrue, yhat)"
   ]
  },
  {
   "cell_type": "code",
   "execution_count": 39,
   "id": "329cffb1",
   "metadata": {},
   "outputs": [
    {
     "data": {
      "text/plain": [
       "(30, 63)"
      ]
     },
     "execution_count": 39,
     "metadata": {},
     "output_type": "execute_result"
    }
   ],
   "source": [
    "X_test[0].shape"
   ]
  },
  {
   "cell_type": "code",
   "execution_count": 40,
   "id": "21898cb8",
   "metadata": {},
   "outputs": [
    {
     "data": {
      "text/plain": [
       "(73, 29)"
      ]
     },
     "execution_count": 40,
     "metadata": {},
     "output_type": "execute_result"
    }
   ],
   "source": [
    "y_test.shape"
   ]
  },
  {
   "cell_type": "code",
   "execution_count": 28,
   "id": "1194dd93",
   "metadata": {},
   "outputs": [
    {
     "name": "stdout",
     "output_type": "stream",
     "text": [
      "3/3 [==============================] - 0s 34ms/step\n"
     ]
    },
    {
     "data": {
      "text/plain": [
       "array([[9.9934465e-01, 1.1068128e-12, 2.7669799e-05, ..., 3.5492337e-04,\n",
       "        9.6724876e-19, 1.3548849e-20],\n",
       "       [3.9318743e-33, 3.9657259e-16, 2.8118495e-18, ..., 3.3210301e-16,\n",
       "        1.1349383e-17, 7.6063820e-08],\n",
       "       [2.8817734e-05, 9.1991887e-20, 1.7757989e-12, ..., 9.9989855e-01,\n",
       "        4.7078923e-25, 5.6818650e-30],\n",
       "       ...,\n",
       "       [0.0000000e+00, 1.1608749e-24, 1.8336988e-31, ..., 2.7241648e-19,\n",
       "        6.3759185e-12, 1.6438757e-06],\n",
       "       [0.0000000e+00, 0.0000000e+00, 0.0000000e+00, ..., 1.6154059e-22,\n",
       "        5.2921144e-12, 6.1206787e-18],\n",
       "       [3.5463400e-24, 4.7676553e-05, 2.3450586e-07, ..., 7.0342215e-18,\n",
       "        2.3249814e-11, 1.9504389e-06]], dtype=float32)"
      ]
     },
     "execution_count": 28,
     "metadata": {},
     "output_type": "execute_result"
    }
   ],
   "source": [
    "model.predict(X_test)"
   ]
  },
  {
   "cell_type": "code",
   "execution_count": null,
   "id": "5cf05eb2",
   "metadata": {},
   "outputs": [],
   "source": [
    "model.predict(np.expand_dims(X_test[0], axis=0))"
   ]
  },
  {
   "cell_type": "code",
   "execution_count": null,
   "id": "d8ba5c30",
   "metadata": {},
   "outputs": [],
   "source": []
  },
  {
   "cell_type": "code",
   "execution_count": 41,
   "id": "ae2d7ce3",
   "metadata": {},
   "outputs": [],
   "source": [
    "sequence = []\n",
    "sentence = []\n",
    "threshold = 0.99"
   ]
  },
  {
   "cell_type": "code",
   "execution_count": 45,
   "id": "587dac31",
   "metadata": {},
   "outputs": [
    {
     "name": "stdout",
     "output_type": "stream",
     "text": [
      "<class 'mediapipe.python.solution_base.SolutionOutputs'>\n",
      "1/1 [==============================] - 7s 7s/step\n",
      "L\n",
      "<class 'mediapipe.python.solution_base.SolutionOutputs'>\n",
      "1/1 [==============================] - 1s 580ms/step\n",
      "L\n",
      "<class 'mediapipe.python.solution_base.SolutionOutputs'>\n",
      "1/1 [==============================] - 0s 218ms/step\n",
      "L\n",
      "<class 'mediapipe.python.solution_base.SolutionOutputs'>\n",
      "1/1 [==============================] - 0s 274ms/step\n",
      "L\n",
      "<class 'mediapipe.python.solution_base.SolutionOutputs'>\n",
      "1/1 [==============================] - 0s 108ms/step\n",
      "L\n",
      "<class 'mediapipe.python.solution_base.SolutionOutputs'>\n",
      "1/1 [==============================] - 0s 135ms/step\n",
      "L\n"
     ]
    },
    {
     "ename": "error",
     "evalue": "OpenCV(4.5.5) D:\\a\\opencv-python\\opencv-python\\opencv\\modules\\imgproc\\src\\color.cpp:182: error: (-215:Assertion failed) !_src.empty() in function 'cv::cvtColor'\n",
     "output_type": "error",
     "traceback": [
      "\u001b[1;31m---------------------------------------------------------------------------\u001b[0m",
      "\u001b[1;31merror\u001b[0m                                     Traceback (most recent call last)",
      "Input \u001b[1;32mIn [45]\u001b[0m, in \u001b[0;36m<cell line: 6>\u001b[1;34m()\u001b[0m\n\u001b[0;32m      7\u001b[0m \u001b[38;5;28;01mwhile\u001b[39;00m cap\u001b[38;5;241m.\u001b[39misOpened():\n\u001b[0;32m      9\u001b[0m     ret, frame \u001b[38;5;241m=\u001b[39m cap\u001b[38;5;241m.\u001b[39mread()\n\u001b[1;32m---> 10\u001b[0m     image, results \u001b[38;5;241m=\u001b[39m \u001b[43mmediapipe_detection\u001b[49m\u001b[43m(\u001b[49m\u001b[43mframe\u001b[49m\u001b[43m,\u001b[49m\u001b[43m \u001b[49m\u001b[43mholistic\u001b[49m\u001b[43m)\u001b[49m\n\u001b[0;32m     11\u001b[0m     \u001b[38;5;28mprint\u001b[39m(results)\n\u001b[0;32m     12\u001b[0m     draw_styled_landmarks(image, results)\n",
      "Input \u001b[1;32mIn [5]\u001b[0m, in \u001b[0;36mmediapipe_detection\u001b[1;34m(image, model)\u001b[0m\n\u001b[0;32m      1\u001b[0m \u001b[38;5;28;01mdef\u001b[39;00m \u001b[38;5;21mmediapipe_detection\u001b[39m(image, model):\n\u001b[1;32m----> 2\u001b[0m   image \u001b[38;5;241m=\u001b[39m \u001b[43mcv2\u001b[49m\u001b[38;5;241;43m.\u001b[39;49m\u001b[43mcvtColor\u001b[49m\u001b[43m(\u001b[49m\u001b[43mimage\u001b[49m\u001b[43m,\u001b[49m\u001b[43m \u001b[49m\u001b[43mcv2\u001b[49m\u001b[38;5;241;43m.\u001b[39;49m\u001b[43mCOLOR_BGR2RGB\u001b[49m\u001b[43m)\u001b[49m  \n\u001b[0;32m      3\u001b[0m   image\u001b[38;5;241m.\u001b[39mflags\u001b[38;5;241m.\u001b[39mwriteable \u001b[38;5;241m=\u001b[39m \u001b[38;5;28;01mFalse\u001b[39;00m  \n\u001b[0;32m      4\u001b[0m   results \u001b[38;5;241m=\u001b[39m model\u001b[38;5;241m.\u001b[39mprocess(image) \n",
      "\u001b[1;31merror\u001b[0m: OpenCV(4.5.5) D:\\a\\opencv-python\\opencv-python\\opencv\\modules\\imgproc\\src\\color.cpp:182: error: (-215:Assertion failed) !_src.empty() in function 'cv::cvtColor'\n"
     ]
    }
   ],
   "source": [
    "RTSP_URL = 'http://192.168.140.107:8080//video'\n",
    "\n",
    "os.environ['OPENCV_FFMPEG_CAPTURE_OPTIONS'] = 'rtsp_transport;udp'\n",
    "\n",
    "cap = cv2.VideoCapture(RTSP_URL, cv2.CAP_FFMPEG)\n",
    "with mp_holistic.Holistic(min_detection_confidence=0.5, min_tracking_confidence=0.5) as holistic:\n",
    "    while cap.isOpened():\n",
    "\n",
    "        ret, frame = cap.read()\n",
    "        image, results = mediapipe_detection(frame, holistic)\n",
    "        print(results)\n",
    "        draw_styled_landmarks(image, results)\n",
    "\n",
    "        keypoints = extract_keypoints(results)\n",
    "        sequence.append(keypoints)\n",
    "        sequence = sequence[-30:]\n",
    "        \n",
    "        if len(sequence) == 30:\n",
    "            res = model.predict(np.expand_dims(sequence, axis=0))[0]\n",
    "            print(Alphabet[np.argmax(res)])\n",
    "\n",
    "            if res[np.argmax(res)] > threshold: \n",
    "                if len(sentence) > 0: \n",
    "                    if Alphabet[np.argmax(res)] != sentence[-1]:\n",
    "                        sentence.append(Alphabet[np.argmax(res)])\n",
    "                else:\n",
    "                    sentence.append(Alphabet[np.argmax(res)])\n",
    "\n",
    "        cv2.putText(image, ' '.join(sentence), (3,30), \n",
    "                       cv2.FONT_HERSHEY_SIMPLEX, 1, (0,0,0), 2, cv2.LINE_AA)\n",
    "\n",
    "        cv2.imshow('SigPlanet_Screen', image)\n",
    "        if cv2.waitKey(1) == 27:\n",
    "            break\n",
    "    cap.release()\n",
    "    cv2.destroyAllWindows()"
   ]
  },
  {
   "cell_type": "code",
   "execution_count": 43,
   "id": "28735109",
   "metadata": {},
   "outputs": [],
   "source": [
    "cap.release()\n",
    "cv2.destroyAllWindows()"
   ]
  },
  {
   "cell_type": "code",
   "execution_count": null,
   "id": "502c645b",
   "metadata": {},
   "outputs": [],
   "source": []
  },
  {
   "cell_type": "code",
   "execution_count": null,
   "id": "0b18e5ee",
   "metadata": {},
   "outputs": [],
   "source": []
  },
  {
   "cell_type": "code",
   "execution_count": null,
   "id": "3c54db1a",
   "metadata": {},
   "outputs": [],
   "source": []
  },
  {
   "cell_type": "code",
   "execution_count": null,
   "id": "7a9742dd",
   "metadata": {},
   "outputs": [],
   "source": []
  },
  {
   "cell_type": "code",
   "execution_count": null,
   "id": "8f79a74e",
   "metadata": {},
   "outputs": [],
   "source": []
  },
  {
   "cell_type": "code",
   "execution_count": null,
   "id": "f47727d0",
   "metadata": {},
   "outputs": [],
   "source": []
  }
 ],
 "metadata": {
  "kernelspec": {
   "display_name": "Python 3 (ipykernel)",
   "language": "python",
   "name": "python3"
  },
  "language_info": {
   "codemirror_mode": {
    "name": "ipython",
    "version": 3
   },
   "file_extension": ".py",
   "mimetype": "text/x-python",
   "name": "python",
   "nbconvert_exporter": "python",
   "pygments_lexer": "ipython3",
   "version": "3.10.4"
  }
 },
 "nbformat": 4,
 "nbformat_minor": 5
}
